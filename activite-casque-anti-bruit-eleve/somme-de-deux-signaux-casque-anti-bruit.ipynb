{
 "cells": [
  {
   "cell_type": "markdown",
   "metadata": {},
   "source": [
    "# <center><font color =\"red\">Casque antibruit actif</font></center>"
   ]
  },
  {
   "cell_type": "markdown",
   "metadata": {},
   "source": [
    "**Capacité numérique**.\n",
    ": Représenter, à l’aide d’un langage de programmation, la somme de deux signaux sinusoïdaux périodiques synchrones en faisant varier la phase à l'origine"
   ]
  },
  {
   "cell_type": "markdown",
   "metadata": {},
   "source": [
    "Nathan p 418"
   ]
  },
  {
   "cell_type": "markdown",
   "metadata": {},
   "source": [
    "![image](casque-anti-bruit-p418-nathan.png)"
   ]
  },
  {
   "cell_type": "markdown",
   "metadata": {},
   "source": [
    "![image](doc1p418-nathan.png)"
   ]
  },
  {
   "cell_type": "markdown",
   "metadata": {},
   "source": [
    "![image](donnée.png)"
   ]
  },
  {
   "cell_type": "markdown",
   "metadata": {},
   "source": [
    "![center](fig3.png)"
   ]
  },
  {
   "cell_type": "markdown",
   "metadata": {},
   "source": [
    "![image](doc2p418-nathan.png)"
   ]
  },
  {
   "cell_type": "markdown",
   "metadata": {},
   "source": [
    "<div class = \"alert alert-info\">  \n",
    "\n",
    "**Question 1:**           \n",
    "Expliquer brièvement ce que permet de réaliser le code décrit dans le doc.2.\n",
    "</div>"
   ]
  },
  {
   "cell_type": "raw",
   "metadata": {},
   "source": []
  },
  {
   "cell_type": "markdown",
   "metadata": {},
   "source": [
    "- On appelle S$_{1}$  la source du bruit intérieur. "
   ]
  },
  {
   "cell_type": "markdown",
   "metadata": {},
   "source": [
    "Le signal du bruit intérieur a pour expression: "
   ]
  },
  {
   "cell_type": "markdown",
   "metadata": {},
   "source": [
    ">  s$_{1}$(t)= A$_{1}$ x cos($\\frac{2\\pi}{T}$t)    \n",
    "Sa phase à l'origine $\\varphi$ est nulle."
   ]
  },
  {
   "cell_type": "markdown",
   "metadata": {},
   "source": [
    "Les deux sources S$_{1}$ et S$_{2}$ sont synchrones de période T."
   ]
  },
  {
   "cell_type": "markdown",
   "metadata": {},
   "source": [
    "- On appelle S$_{2}$ la source du second signal: l'antibruit.  \n"
   ]
  },
  {
   "cell_type": "markdown",
   "metadata": {},
   "source": [
    "Le signal de l'antibruit a pour expression: "
   ]
  },
  {
   "cell_type": "markdown",
   "metadata": {},
   "source": [
    "> Soit s$_{2}$(t)= a x cos($\\frac{2\\pi}{T}$t+ $\\varphi$ )   \n",
    "Sa phase à l'origine est $\\varphi$."
   ]
  },
  {
   "cell_type": "markdown",
   "metadata": {},
   "source": [
    "On appelle  également $\\varphi$  le déphasage de S$_{1}$ par rapport à S$_{2}$"
   ]
  },
  {
   "cell_type": "code",
   "execution_count": 1,
   "metadata": {},
   "outputs": [],
   "source": [
    "import matplotlib.pyplot as plt\n",
    "%matplotlib inline\n",
    "import numpy as np"
   ]
  },
  {
   "cell_type": "code",
   "execution_count": null,
   "metadata": {},
   "outputs": [],
   "source": [
    "#Initialisation des constantes\n",
    "T=1 #la période vaut 1 ms"
   ]
  },
  {
   "cell_type": "markdown",
   "metadata": {},
   "source": [
    "<div class = \"alert alert-info\">  \n",
    "\n",
    "**Question 2:**           \n",
    "Quelle est la fréquence du son reçu par le micro? Est-il audible par l'homme?\n",
    "</div>"
   ]
  },
  {
   "cell_type": "raw",
   "metadata": {},
   "source": []
  },
  {
   "cell_type": "code",
   "execution_count": null,
   "metadata": {},
   "outputs": [],
   "source": [
    "A1= float(input('Amplitude du signal 1: A1 = ')) \n",
    "A2= float(input('Amplitude du signal 2: A2 = '))"
   ]
  },
  {
   "cell_type": "code",
   "execution_count": null,
   "metadata": {},
   "outputs": [],
   "source": [
    "#On souhaite faire varier la variable t (temps) entre 0 et 4 ms\n",
    "# Pour cela , on crée un tableau de 4000 valeurs réparties de 0 à 4 pour l'axe des abscisses\n",
    "t=np.linspace(0,4,4000)"
   ]
  },
  {
   "cell_type": "code",
   "execution_count": null,
   "metadata": {},
   "outputs": [],
   "source": [
    "#Création d'un tableau contenant les valeurs de s1(t) \n",
    "s1=[]\n",
    "for i in range(len(t)):\n",
    "    s1.append(A1*np.cos(2*np.pi*t[i]/T)) \n",
    "\n",
    "# Affichage de s1(t) \n",
    "plt.xlabel(\"temps\") #abscisse\n",
    "plt.ylabel(\"signal\") #ordonnée\n",
    "plt.plot(t,s1,'b-',label='S1') # Tracé d'une ligne bleue b-\n",
    "plt.title(\"Ondes reçues en M\")\n",
    "plt.legend()\n",
    "plt.show()\n"
   ]
  },
  {
   "cell_type": "markdown",
   "metadata": {},
   "source": [
    "<div class = \"alert alert-info\">  \n",
    "\n",
    "**Question 3:**           \n",
    "En vous appuyant sur le modèle précédent, compléter le code pour faire afficher s$_{2}$(t), pour des valeurs de déphasage $\\varphi$ prenant notamment les valeurs 0, $\\pi$/2 et $\\pi$.  \n",
    "Vous modeliserez s$_{2}$(t) par une ligne rouge : r-.\n",
    "\n",
    "**Question 4:**  \n",
    "Lorsque deux ondes de même nature (synchrone et cohérente) se croisent, leurs élogations s'additionnent. On dit qu'elles interfèrent.   \n",
    "Créer une fonction onde résultante s(t) = s$_{1}$(t) + s$_{2}$(t). La faire afficher sur le même graphique. Vous la modeliserez par une ligne verte : g-.\n",
    "\n",
    "<u> <strong>Données:</strong></u> en python la valeur de $\\pi$ est obtenue par le code suivant : `np.pi` grâce à la bibliothèque numpy.   \n",
    "Vous pouvez créer une cellule de code supplémentaire pour chaque tracé (à l'aide du bouton +).\n",
    "</div>"
   ]
  },
  {
   "cell_type": "markdown",
   "metadata": {},
   "source": [
    "<div class = \"alert alert-info\">  \n",
    "\n",
    "**Question 5:**           \n",
    "Exécuter le code pour étudier l'influence de la phase à l'origine $\\varphi$ du signal s$_{2}$(t) sur la somme des deux signaux notamment lorsqu'elle vaut 0, $\\pi$/2 et $\\pi$.  \n",
    "</div>"
   ]
  },
  {
   "cell_type": "markdown",
   "metadata": {},
   "source": [
    "<div class = \"alert alert-info\">  \n",
    "\n",
    "**Question 6:**           \n",
    "De même, étudier l'influence des amplitudes des signaux s$_{1}$(t) et s$_{2}$(t) sur leur somme lorsque la phase à l'origine $\\varphi$ du signal s$_{2}$(t) vaut 0, $\\pi$/2 et $\\pi$.  \n",
    "</div>"
   ]
  },
  {
   "cell_type": "markdown",
   "metadata": {},
   "source": [
    "<div class = \"alert alert-info\">  \n",
    "\n",
    "**Question 7:**           \n",
    "Noter les valeurs de la phase à l'origine $\\varphi$ du signal s$_{2}$(t) permettant d'obtenir la plus grande atténuation possible. \n",
    "</div>"
   ]
  }
 ],
 "metadata": {
  "kernelspec": {
   "display_name": "Python 3",
   "language": "python",
   "name": "python3"
  },
  "language_info": {
   "codemirror_mode": {
    "name": "ipython",
    "version": 3
   },
   "file_extension": ".py",
   "mimetype": "text/x-python",
   "name": "python",
   "nbconvert_exporter": "python",
   "pygments_lexer": "ipython3",
   "version": "3.7.1"
  }
 },
 "nbformat": 4,
 "nbformat_minor": 2
}
