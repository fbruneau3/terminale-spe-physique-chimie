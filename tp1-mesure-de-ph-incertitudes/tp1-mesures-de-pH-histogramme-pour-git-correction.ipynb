{
 "cells": [
  {
   "cell_type": "markdown",
   "metadata": {},
   "source": [
    "# <center><font color =\"red\">Incertitude sur les mesures de pH réalisées dans le Tp 1</font></center>"
   ]
  },
  {
   "cell_type": "code",
   "execution_count": null,
   "metadata": {},
   "outputs": [],
   "source": [
    "# Install a conda package in the current Jupyter kernel\n",
    "import sys\n",
    "!conda install --yes --prefix {sys.prefix} numpy\n",
    "!conda install --yes --prefix {sys.prefix} matplotlib"
   ]
  },
  {
   "cell_type": "markdown",
   "metadata": {},
   "source": [
    "# <font color=#3D6BBC > Récupération des mesures à la fin du TP</font>"
   ]
  },
  {
   "cell_type": "markdown",
   "metadata": {},
   "source": [
    "<div class=\"bg-danger text-danger\">\n",
    "    \n",
    "- pHi est le pH de la solution i.     \n",
    "- les valeurs de pHi mesurées ont été mises dans le tableau excel.   \n",
    "\n",
    "<font color =\"red\">ATTENTION :  </font> Ne pas mettre de virgule mais un point en entrant les valeurs    \n",
    "-  le fichier mesures_ph a été enregistré au format CSV pour une utilisation dans le programme python. \n",
    "</div>"
   ]
  },
  {
   "cell_type": "markdown",
   "metadata": {},
   "source": [
    "# <font color=#3D6BBC > Traitement statistique d'une série de mesures : incertitude de type A </font>"
   ]
  },
  {
   "cell_type": "markdown",
   "metadata": {},
   "source": [
    "<div class = \"alert alert-info\">\n",
    "\n",
    "\n",
    "**Question 1:**  \n",
    "    \n",
    "Ce programme a été  réalisé pour uniquement 3 solutions. Le modifier pour qu'il prenne en compte les mesures des 6 pH.\n",
    "</div>\n"
   ]
  },
  {
   "cell_type": "markdown",
   "metadata": {},
   "source": [
    "### Importation des données depuis un fichier CSV"
   ]
  },
  {
   "cell_type": "code",
   "execution_count": 1,
   "metadata": {},
   "outputs": [
    {
     "name": "stdout",
     "output_type": "stream",
     "text": [
      "il y a : 41 binômes\n",
      "\n",
      "[{'pH1': '1.51', 'pH2': '2.21', 'pH3': '2.42', 'pH4': '2.93', 'pH5': '3.10', 'pH6': '3.52', '': ''}\n",
      " {'pH1': '1.66', 'pH2': '2.29', 'pH3': '2.38', 'pH4': '3.0', 'pH5': '3.19', 'pH6': '3.55', '': ''}\n",
      " {'pH1': '1.56', 'pH2': '2.24', 'pH3': '2.42', 'pH4': '2.89', 'pH5': '3.06', 'pH6': '3.42', '': ''}\n",
      " {'pH1': '1.76', 'pH2': '2.49', 'pH3': '2.71', 'pH4': '3.15', 'pH5': '3.78', 'pH6': '4.77', '': ''}\n",
      " {'pH1': '1.23', 'pH2': '2.08', 'pH3': '2.38', 'pH4': '2.92', 'pH5': '3.25', 'pH6': '3.78', '': ''}\n",
      " {'pH1': '1.06', 'pH2': '2.06', 'pH3': '2.32', 'pH4': '3.09', 'pH5': '3.37', 'pH6': '3.79', '': ''}\n",
      " {'pH1': '1.34', 'pH2': '2.31', 'pH3': '2.38', 'pH4': '2.76', 'pH5': '2.98', 'pH6': '3.39', '': ''}\n",
      " {'pH1': '1.92', 'pH2': '2.40', 'pH3': '2.73', 'pH4': '3.13', 'pH5': '3.38', 'pH6': '3.80', '': ''}\n",
      " {'pH1': '1.12', 'pH2': '1.9', 'pH3': '2.25', 'pH4': '2.89', 'pH5': '3.3', 'pH6': '4.07', '': ''}\n",
      " {'pH1': '1.33', 'pH2': '2.25', 'pH3': '2.54', 'pH4': '3.21', 'pH5': '3.48', 'pH6': '4.02', '': ''}\n",
      " {'pH1': '1.3', 'pH2': '2.12', 'pH3': '2.39', 'pH4': '2.67', 'pH5': '3.02', 'pH6': '3.45', '': ''}\n",
      " {'pH1': '1.3', 'pH2': '2.29', 'pH3': '2.51', 'pH4': '3.06', 'pH5': '3.38', 'pH6': '4.24', '': ''}\n",
      " {'pH1': '1.31', 'pH2': '2.15', 'pH3': '2.30', 'pH4': '3.01', 'pH5': '3.24', 'pH6': '3.99', '': ''}\n",
      " {'pH1': '2.02', 'pH2': '2.46', 'pH3': '2.66', 'pH4': '3.27', 'pH5': '3.60', 'pH6': '4.25', '': ''}\n",
      " {'pH1': '1.27', 'pH2': '2.09', 'pH3': '2.39', 'pH4': '3.0', 'pH5': '3.7', 'pH6': '4.1', '': ''}\n",
      " {'pH1': '1.22', 'pH2': '2.19', 'pH3': '2.4', 'pH4': '3.03', 'pH5': '3.51', 'pH6': '3.81', '': ''}\n",
      " {'pH1': '1.73', 'pH2': '2.4', 'pH3': '2.59', 'pH4': '2.9', 'pH5': '3.11', 'pH6': '3.39', '': ''}\n",
      " {'pH1': '0.97', 'pH2': '1.77', 'pH3': '2.04', 'pH4': '2.73', 'pH5': '3.1', 'pH6': '3.67', '': ''}\n",
      " {'pH1': '1.01', 'pH2': '1.91', 'pH3': '2.22', 'pH4': '2.87', 'pH5': '3.25', 'pH6': '4.09', '': ''}\n",
      " {'pH1': '1.74', 'pH2': '2.36', 'pH3': '2.58', 'pH4': '3.13', 'pH5': '3.37', 'pH6': '3.81', '': ''}\n",
      " {'pH1': '1.64', 'pH2': '2.4', 'pH3': '2.53', 'pH4': '3.08', 'pH5': '3.27', 'pH6': '4.21', '': ''}\n",
      " {'pH1': '1.2', 'pH2': '2.18', 'pH3': '2.45', 'pH4': '2.93', 'pH5': '3.24', 'pH6': '3.95', '': ''}\n",
      " {'pH1': '1.79', 'pH2': '2.33', 'pH3': '2.77', 'pH4': '3.31', 'pH5': '3.61', 'pH6': '4.34', '': ''}\n",
      " {'pH1': '1.7', 'pH2': '2.23', 'pH3': '2.71', 'pH4': '2.99', 'pH5': '3.27', 'pH6': '3.7', '': ''}\n",
      " {'pH1': '1.7', 'pH2': '2.2', 'pH3': '2.47', 'pH4': '2.97', 'pH5': '3.25', 'pH6': '4.02', '': ''}\n",
      " {'pH1': '1.64', 'pH2': '2.47', 'pH3': '2.73', 'pH4': '3.37', 'pH5': '3.63', 'pH6': '4.17', '': ''}\n",
      " {'pH1': '1.52', 'pH2': '2.16', 'pH3': '2.39', 'pH4': '2.86', 'pH5': '3.28', 'pH6': '3.76', '': ''}\n",
      " {'pH1': '1.6', 'pH2': '2.15', 'pH3': '2.44', 'pH4': '2.85', 'pH5': '3.21', 'pH6': '3.95', '': ''}\n",
      " {'pH1': '1.12', 'pH2': '1.82', 'pH3': '2.15', 'pH4': '2.82', 'pH5': '3.13', 'pH6': '3.77', '': ''}\n",
      " {'pH1': '1.44', 'pH2': '2.26', 'pH3': '2.34', 'pH4': '2.88', 'pH5': '3.1', 'pH6': '3.53', '': ''}\n",
      " {'pH1': '1.63', 'pH2': '2.02', 'pH3': '2.31', 'pH4': '2.86', 'pH5': '2.36', 'pH6': '3.62', '': ''}\n",
      " {'pH1': '1.72', 'pH2': '2.4', 'pH3': '2.66', 'pH4': '3.23', 'pH5': '3.62', 'pH6': '4.29', '': ''}\n",
      " {'pH1': '1.75', 'pH2': '2.46', 'pH3': '2.69', 'pH4': '3.11', 'pH5': '3.63', 'pH6': '4.38', '': ''}\n",
      " {'pH1': '1.32', 'pH2': '2.17', 'pH3': '2.49', 'pH4': '3.13', 'pH5': '3.26', 'pH6': '4.2', '': ''}\n",
      " {'pH1': '1.14', 'pH2': '2.01', 'pH3': '2.24', 'pH4': '3.08', 'pH5': '3.2', 'pH6': '4.11', '': ''}\n",
      " {'pH1': '1.3', 'pH2': '2.17', 'pH3': '2.46', 'pH4': '3.13', 'pH5': '3.2', 'pH6': '4.1', '': ''}\n",
      " {'pH1': '1.48', 'pH2': '2.21', 'pH3': '2.51', 'pH4': '2.8', 'pH5': '3.29', 'pH6': '3.74', '': ''}\n",
      " {'pH1': '1.01', 'pH2': '2.12', 'pH3': '2.4', 'pH4': '3.05', 'pH5': '3.51', 'pH6': '4.3', '': ''}\n",
      " {'pH1': '1.1', 'pH2': '1.96', 'pH3': '2.25', 'pH4': '2.6', 'pH5': '3.5', 'pH6': '4.11', '': ''}\n",
      " {'pH1': '1.33', 'pH2': '2.25', 'pH3': '2.46', 'pH4': '3.13', 'pH5': '3.4', 'pH6': '4.24', '': ''}\n",
      " {'pH1': '1.33', 'pH2': '2.16', 'pH3': '2.47', 'pH4': '3.17', 'pH5': '3.3', 'pH6': '4.21', '': ''}]\n"
     ]
    }
   ],
   "source": [
    "import csv\n",
    "import matplotlib.pyplot as plt\n",
    "%matplotlib inline\n",
    "import numpy as np\n",
    "\n",
    "#Création d'un dictionnaire contenant les valeurs de pH\n",
    "pH = []\n",
    "with open('mesures_ph.csv', newline='') as csvfile:\n",
    "    file = csv.DictReader(csvfile, delimiter=\";\")\n",
    "    for ligne in file:\n",
    "        pH.append(dict(ligne))\n",
    "        \n",
    "nb_mesures=len(pH)\n",
    "print(\"il y a :\", nb_mesures , \"binômes\")\n",
    "print()\n",
    "\n",
    "#Affichage des mesures et du nombre de binômes (regroupement de plusieurs classe)\n",
    "print(np.array(pH)) \n"
   ]
  },
  {
   "cell_type": "markdown",
   "metadata": {},
   "source": [
    "### Création des listes contenant les mesures du pH pour chacune des solutions"
   ]
  },
  {
   "cell_type": "code",
   "execution_count": 2,
   "metadata": {},
   "outputs": [],
   "source": [
    "#Initialisation des listes\n",
    "\n",
    "liste_pH1=[]\n",
    "liste_pH2=[]\n",
    "liste_pH3=[]\n",
    "liste_pH4=[]\n",
    "liste_pH5=[]\n",
    "liste_pH6=[]\n",
    "\n",
    "#Lecture du fichier ligne par ligne et ajout dans les listes au fur et à mesure\n",
    "for groupe in pH:\n",
    "    liste_pH1.append(float(groupe['pH1']))\n",
    "    liste_pH2.append(float(groupe['pH2']))\n",
    "    liste_pH3.append(float(groupe['pH3']))\n",
    "    liste_pH4.append(float(groupe['pH4']))\n",
    "    liste_pH5.append(float(groupe['pH5']))\n",
    "    liste_pH6.append(float(groupe['pH6']))"
   ]
  },
  {
   "cell_type": "markdown",
   "metadata": {},
   "source": [
    "### Tracer des histogrammes"
   ]
  },
  {
   "cell_type": "code",
   "execution_count": 3,
   "metadata": {},
   "outputs": [
    {
     "data": {
      "image/png": "[encoded data removed]",
      "text/plain": [
       "<Figure size 432x288 with 1 Axes>"
      ]
     },
     "metadata": {
      "needs_background": "light"
     },
     "output_type": "display_data"
    },
    {
     "data": {
      "image/png": "[encoded data removed]",
      "text/plain": [
       "<Figure size 432x288 with 1 Axes>"
      ]
     },
     "metadata": {
      "needs_background": "light"
     },
     "output_type": "display_data"
    },
    {
     "data": {
      "image/png": "[encoded data removed]",
      "text/plain": [
       "<Figure size 432x288 with 1 Axes>"
      ]
     },
     "metadata": {
      "needs_background": "light"
     },
     "output_type": "display_data"
    },
    {
     "data": {
      "image/png": "[encoded data removed]",
      "text/plain": [
       "<Figure size 432x288 with 1 Axes>"
      ]
     },
     "metadata": {
      "needs_background": "light"
     },
     "output_type": "display_data"
    },
    {
     "data": {
      "image/png": "[encoded data removed]",
      "text/plain": [
       "<Figure size 432x288 with 1 Axes>"
      ]
     },
     "metadata": {
      "needs_background": "light"
     },
     "output_type": "display_data"
    },
    {
     "data": {
      "image/png": "[encoded data removed]",
      "text/plain": [
       "<Figure size 432x288 with 1 Axes>"
      ]
     },
     "metadata": {
      "needs_background": "light"
     },
     "output_type": "display_data"
    }
   ],
   "source": [
    "#Histogramme pour les mesures de pH de la solution 1\n",
    "plt.figure(1)  # Création du cadre\n",
    "plt.hist(liste_pH1,color='b')  # création de l'histogramme mis en bleu (b)\n",
    "plt.ylabel('Fréquence')  # titre de l'axe des ordonnées\n",
    "plt.xlabel('pH1')  #titre de l'axe des abscisses\n",
    "plt.title(\"Mesures de pH1 effectuées par \"+str(nb_mesures)+\" groupes.\")  #Titre de l'histogramme\n",
    "\n",
    "#Histogramme pour les mesures de pH de la solution 2\n",
    "plt.figure(2)\n",
    "plt.hist(liste_pH2,color='r') # création de l'histogramme mis en rouge (r)\n",
    "plt.ylabel('Fréquence')\n",
    "plt.xlabel('pH2')\n",
    "plt.title(\"Mesures de pH2 effectuées par \"+str(nb_mesures)+\" groupes.\")\n",
    "\n",
    "#Histogramme pour les mesures de pH de la solution 3\n",
    "plt.figure(3)\n",
    "plt.hist(liste_pH3,color='g') # création de l'histogramme mis en vert (g)\n",
    "plt.ylabel('Fréquence')\n",
    "plt.xlabel('pH3')\n",
    "plt.title(\"Mesures de pH3 effectuées par \"+str(nb_mesures)+\" groupes.\")\n",
    "\n",
    "#Histogramme pour les mesures de pH de la solution 4\n",
    "plt.figure(4)  # Création du cadre\n",
    "plt.hist(liste_pH4,color='b')  # création de l'histogramme mis en bleu (b)\n",
    "plt.ylabel('Fréquence')  # titre de l'axe des ordonnées\n",
    "plt.xlabel('pH4')  #titre de l'axe des abscisses\n",
    "plt.title(\"Mesures de pH4 effectuées par \"+str(nb_mesures)+\" groupes.\")  #Titre de l'histogramme\n",
    "\n",
    "#Histogramme pour les mesures de pH de la solution 5\n",
    "plt.figure(5)\n",
    "plt.hist(liste_pH5,color='grey') # création de l'histogramme mis en rouge (r)\n",
    "plt.ylabel('Fréquence')\n",
    "plt.xlabel('pH5')\n",
    "plt.title(\"Mesures de pH5 effectuées par \"+str(nb_mesures)+\" groupes.\")\n",
    "\n",
    "#Histogramme pour les mesures de pH de la solution 6\n",
    "plt.figure(6)\n",
    "plt.hist(liste_pH6,color='y') # création de l'histogramme mis en vert (g)\n",
    "plt.ylabel('Fréquence')\n",
    "plt.xlabel('pH6')\n",
    "plt.title(\"Mesures de pH6 effectuées par \"+str(nb_mesures)+\" groupes.\")\n",
    "\n",
    "\n",
    "plt.show()\n",
    "\n",
    "\n"
   ]
  },
  {
   "cell_type": "markdown",
   "metadata": {},
   "source": [
    "<div class = \"alert alert-info\">\n",
    "\n",
    "**Question 2:**  \n",
    "    \n",
    "Observer et comparer 6 les histogrammes.   \n",
    "\n",
    "</div>"
   ]
  },
  {
   "cell_type": "markdown",
   "metadata": {},
   "source": [
    "On obtient une courbe de Gauss. "
   ]
  },
  {
   "cell_type": "markdown",
   "metadata": {},
   "source": [
    "<div class = \"alert alert-info\">\n",
    "\n",
    "**Question 3:**  \n",
    "    \n",
    "Quelle peut-être l'origine de la dispersion des résultats? Proposer plusieurs causes éventuelles.\n",
    "Etes-vous sûr du résultat obtenu?\n",
    "\n",
    "</div>"
   ]
  },
  {
   "cell_type": "markdown",
   "metadata": {},
   "source": [
    "En faisant confiance à un seul expérimentateur pris au hasard, nous commettrions une faute.\n",
    "Envisager le résultat d’ensemble et la moyenne de valeurs obtenues conduit à une estimation convenable de la grandeur\n",
    "Le résultat de la mesure du pH n’est pas certain, la mesure est entachée d’incertitude.\n",
    "On pourra donner les résultats sous forme d’un encadrement.\n"
   ]
  },
  {
   "cell_type": "markdown",
   "metadata": {},
   "source": [
    "Nous allons donc calculer l'incertitude sur la mesure du pH **U(pH)**"
   ]
  },
  {
   "cell_type": "markdown",
   "metadata": {},
   "source": [
    "<div class = \"alert alert-info\"> \n",
    "    \n",
    "Voir document **La mesure en sciences expérimentales - Erreurs et incertitudes** \n",
    "\n",
    "</div>"
   ]
  },
  {
   "cell_type": "markdown",
   "metadata": {},
   "source": [
    "<div class = \"alert alert-info\"> \n",
    "    \n",
    "**Question 4:**  \n",
    "Pour chaque solution, calculer :\n",
    "\n",
    "- la moyenne notée moy_phi,\n",
    "- l'écart type noté Sexp_i,\n",
    "- l'incertitude de répétition u$_{rèp}$ noté urep_i\n",
    "- l'incertitude absolue U(pHi), noté U_phi pour un niveau de confiance de 95% soit k=2.  \n",
    "\n",
    "Pour cela vous pourrez vous aider de la **page 543**  de votre livre et de l'exemple ci-dessous concernant la solution 1. Utiliser la syntaxe python et non NumPy.\n",
    "\n",
    "</div>"
   ]
  },
  {
   "cell_type": "markdown",
   "metadata": {},
   "source": [
    "### Solution 1"
   ]
  },
  {
   "cell_type": "code",
   "execution_count": 4,
   "metadata": {},
   "outputs": [
    {
     "name": "stdout",
     "output_type": "stream",
     "text": [
      "pH1 moy =  1.43\n",
      "écart-type de la solution 1 =  0.272\n",
      "l'incertitude de type A pour la solution 1 est : 0.042\n",
      "l'incertitude absolue pour la mesure de pH1 est  0.08\n"
     ]
    }
   ],
   "source": [
    "#Calcul de la moyenne des pH de la solution 1 : moy_ph1\n",
    "moy_ph1=round(sum(liste_pH1)/nb_mesures,2)\n",
    "print(\"pH1 moy = \", moy_ph1)\n",
    "\n",
    "#Calcul de l'écart-type du pH de la solution 1\n",
    "somme=0\n",
    "for i in range(nb_mesures):\n",
    "    somme=somme +(liste_pH1[i]-moy_ph1)**2\n",
    "Sexp_1=(somme/(nb_mesures-1))**0.5\n",
    "print(\"écart-type de la solution 1 = \", round(Sexp_1,3))\n",
    "\n",
    "# Calcul de l'incertitude de répétabilité   ou incertitude de type pour la solution 1\n",
    "urep_1=Sexp_1/(nb_mesures)**0.5 \n",
    "print(\"l'incertitude de type A pour la solution 1 est :\" , round(urep_1,3))\n",
    "\n",
    "# Calcul de l'incertitude élargie ou incertitude absolue U(pH1)\n",
    "U_ph1= round(2* urep_1,2)\n",
    "print(\"l'incertitude absolue pour la mesure de pH1 est \", U_ph1)"
   ]
  },
  {
   "cell_type": "markdown",
   "metadata": {},
   "source": [
    "### Solution 2"
   ]
  },
  {
   "cell_type": "code",
   "execution_count": 5,
   "metadata": {},
   "outputs": [
    {
     "name": "stdout",
     "output_type": "stream",
     "text": [
      "pH2 moy =  2.2\n",
      "écart-type de la solution 2 =  0.176\n",
      "l'incertitude de type A pour la solution 2 est : 0.027\n",
      "l'incertitude absolue pour la mesure de pH2 est  0.05\n"
     ]
    }
   ],
   "source": [
    "#Calcul de la moyenne des pH de la solution 2 : moy_ph2\n",
    "moy_ph2=round(sum(liste_pH2)/nb_mesures,2)\n",
    "print(\"pH2 moy = \", moy_ph2)\n",
    "\n",
    "#Calcul de l'écart-type du pH de la solution 2\n",
    "somme=0\n",
    "for i in range(nb_mesures):\n",
    "    somme=somme +(liste_pH2[i]-moy_ph2)**2\n",
    "Sexp_2=(somme/(nb_mesures-1))**0.5\n",
    "print(\"écart-type de la solution 2 = \", round(Sexp_2,3))\n",
    "\n",
    "# Calcul de l'incertitude de répétabilité   ou incertitude de type pour la solution 2\n",
    "urep_2=Sexp_2/(nb_mesures)**0.5 \n",
    "print(\"l'incertitude de type A pour la solution 2 est :\" , round(urep_2,3))\n",
    "\n",
    "# Calcul de l'incertitude élargie ou incertitude absolue U(pH2)\n",
    "U_ph2= round(2* urep_2,2)\n",
    "print(\"l'incertitude absolue pour la mesure de pH2 est \", U_ph2)"
   ]
  },
  {
   "cell_type": "markdown",
   "metadata": {},
   "source": [
    "### Solution 3"
   ]
  },
  {
   "cell_type": "code",
   "execution_count": 6,
   "metadata": {},
   "outputs": [
    {
     "name": "stdout",
     "output_type": "stream",
     "text": [
      "pH3 moy =  2.45\n",
      "écart-type de la solution 3 =  0.169\n",
      "l'incertitude de type A pour la solution 3 est : 0.026\n",
      "l'incertitude absolue pour la mesure de pH3 est  0.05\n"
     ]
    }
   ],
   "source": [
    "#Calcul de la moyenne des pH de la solution 3 : moy_ph3\n",
    "moy_ph3=round(sum(liste_pH3)/nb_mesures,2)\n",
    "print(\"pH3 moy = \", moy_ph3)\n",
    "\n",
    "#Calcul de l'écart-type du pH de la solution 2\n",
    "somme=0\n",
    "for i in range(nb_mesures):\n",
    "    somme=somme +(liste_pH3[i]-moy_ph3)**2\n",
    "Sexp_3=(somme/(nb_mesures-1))**0.5\n",
    "print(\"écart-type de la solution 3 = \", round(Sexp_3,3))\n",
    "\n",
    "# Calcul de l'incertitude de répétabilité ou incertitude de type pour la solution 3\n",
    "urep_3=Sexp_3/(nb_mesures)**0.5 \n",
    "print(\"l'incertitude de type A pour la solution 3 est :\" , round(urep_3,3))\n",
    "\n",
    "# Calcul de l'incertitude élargie ou incertitude absolue U(pH3)\n",
    "U_ph3= round(2* urep_3,2)\n",
    "print(\"l'incertitude absolue pour la mesure de pH3 est \", U_ph3)"
   ]
  },
  {
   "cell_type": "markdown",
   "metadata": {},
   "source": [
    "### Solution 4"
   ]
  },
  {
   "cell_type": "code",
   "execution_count": 7,
   "metadata": {},
   "outputs": [
    {
     "name": "stdout",
     "output_type": "stream",
     "text": [
      "pH4 moy =  3.0\n",
      "écart-type de la solution 4 =  0.173\n",
      "l'incertitude de type A pour la solution 4 est : 0.027\n",
      "l'incertitude absolue pour la mesure de pH4 est  0.05\n"
     ]
    }
   ],
   "source": [
    "#Calcul de la moyenne des pH de la solution 4 : moy_ph4\n",
    "moy_ph4=round(sum(liste_pH4)/nb_mesures,2)\n",
    "print(\"pH4 moy = \", moy_ph4)\n",
    "\n",
    "#Calcul de l'écart-type du pH de la solution 4\n",
    "somme=0\n",
    "for i in range(nb_mesures):\n",
    "    somme=somme +(liste_pH4[i]-moy_ph4)**2\n",
    "Sexp_4=(somme/(nb_mesures-1))**0.5\n",
    "print(\"écart-type de la solution 4 = \", round(Sexp_4,3))\n",
    "\n",
    "# Calcul de l'incertitude de répétabilité   ou incertitude de type pour la solution 4\n",
    "urep_4=Sexp_4/(nb_mesures)**0.5 \n",
    "print(\"l'incertitude de type A pour la solution 4 est :\" , round(urep_4,3))\n",
    "\n",
    "# Calcul de l'incertitude élargie ou incertitude absolue U(pH4)\n",
    "U_ph4= round(2* urep_4,2)\n",
    "print(\"l'incertitude absolue pour la mesure de pH4 est \", U_ph4)"
   ]
  },
  {
   "cell_type": "markdown",
   "metadata": {},
   "source": [
    "### Solution 5"
   ]
  },
  {
   "cell_type": "code",
   "execution_count": 8,
   "metadata": {},
   "outputs": [
    {
     "name": "stdout",
     "output_type": "stream",
     "text": [
      "pH5 moy =  3.3\n",
      "écart-type de la solution 5 =  0.248\n",
      "l'incertitude de type A pour la solution 5 est : 0.039\n",
      "l'incertitude absolue pour la mesure de pH5 est  0.08\n"
     ]
    }
   ],
   "source": [
    "#Calcul de la moyenne des pH de la solution 5 : moy_ph5\n",
    "moy_ph5=round(sum(liste_pH5)/nb_mesures,2)\n",
    "print(\"pH5 moy = \", moy_ph5)\n",
    "\n",
    "#Calcul de l'écart-type du pH de la solution 5\n",
    "somme=0\n",
    "for i in range(nb_mesures):\n",
    "    somme=somme +(liste_pH5[i]-moy_ph5)**2\n",
    "Sexp_5=(somme/(nb_mesures-1))**0.5\n",
    "print(\"écart-type de la solution 5 = \", round(Sexp_5,3))\n",
    "\n",
    "# Calcul de l'incertitude de répétabilité   ou incertitude de type pour la solution 5\n",
    "urep_5=Sexp_5/(nb_mesures)**0.5 \n",
    "print(\"l'incertitude de type A pour la solution 5 est :\" , round(urep_5,3))\n",
    "\n",
    "# Calcul de l'incertitude élargie ou incertitude absolue U(pH5)\n",
    "U_ph5= round(2* urep_5,2)\n",
    "print(\"l'incertitude absolue pour la mesure de pH5 est \", U_ph5)"
   ]
  },
  {
   "cell_type": "markdown",
   "metadata": {},
   "source": [
    "### Solution 6"
   ]
  },
  {
   "cell_type": "code",
   "execution_count": 9,
   "metadata": {},
   "outputs": [
    {
     "name": "stdout",
     "output_type": "stream",
     "text": [
      "pH6 moy =  3.94\n",
      "écart-type de la solution 6 =  0.318\n",
      "l'incertitude de type A pour la solution 6 est : 0.05\n",
      "l'incertitude absolue pour la mesure de pH6 est  0.1\n"
     ]
    }
   ],
   "source": [
    "#Calcul de la moyenne des pH de la solution 6 : moy_ph6\n",
    "moy_ph6=round(sum(liste_pH6)/nb_mesures,2)\n",
    "print(\"pH6 moy = \", moy_ph6)\n",
    "\n",
    "#Calcul de l'écart-type du pH de la solution 6\n",
    "somme=0\n",
    "for i in range(nb_mesures):\n",
    "    somme=somme +(liste_pH6[i]-moy_ph6)**2\n",
    "Sexp_6=(somme/(nb_mesures-1))**0.5\n",
    "print(\"écart-type de la solution 6 = \", round(Sexp_6,3))\n",
    "\n",
    "# Calcul de l'incertitude de répétabilité   ou incertitude de type pour la solution 6\n",
    "urep_6=Sexp_6/(nb_mesures)**0.5 \n",
    "print(\"l'incertitude de type A pour la solution 6 est :\" , round(urep_6,3))\n",
    "\n",
    "# Calcul de l'incertitude élargie ou incertitude absolue U(pH6)\n",
    "U_ph6= round(2* urep_6,2)\n",
    "print(\"l'incertitude absolue pour la mesure de pH6 est \", U_ph6)"
   ]
  },
  {
   "cell_type": "markdown",
   "metadata": {},
   "source": [
    "<div class = \"alert alert-info\"> \n",
    "    \n",
    "**Question 5:**  \n",
    "Pour chaque solution, donner le résultat sous forme d'un encadrement.\n",
    "Vérifier que cet encadrement contient le pH théorique.\n",
    " \n",
    "</div>"
   ]
  },
  {
   "cell_type": "markdown",
   "metadata": {},
   "source": [
    "### Solution 1"
   ]
  },
  {
   "cell_type": "code",
   "execution_count": 10,
   "metadata": {},
   "outputs": [
    {
     "name": "stdout",
     "output_type": "stream",
     "text": [
      " pH1=  1.43  +/-  0.08\n",
      "1.35  < pH1 <  1.51\n"
     ]
    }
   ],
   "source": [
    "print(\" pH1= \", moy_ph1, \" +/- \",U_ph1) \n",
    "print( round(moy_ph1-U_ph1,2) ,\" < pH1 < \" ,round(moy_ph1+U_ph1,2))"
   ]
  },
  {
   "cell_type": "markdown",
   "metadata": {},
   "source": [
    "### Solution 2"
   ]
  },
  {
   "cell_type": "code",
   "execution_count": 11,
   "metadata": {},
   "outputs": [
    {
     "name": "stdout",
     "output_type": "stream",
     "text": [
      " pH2=  2.2  +/-  0.05\n",
      "2.15  < pH2 <  2.25\n"
     ]
    }
   ],
   "source": [
    "print(\" pH2= \", moy_ph2, \" +/- \",U_ph2) \n",
    "print( round(moy_ph2-U_ph2,2) ,\" < pH2 < \" ,round(moy_ph2+U_ph2,2))"
   ]
  },
  {
   "cell_type": "markdown",
   "metadata": {},
   "source": [
    "### Solution 3"
   ]
  },
  {
   "cell_type": "code",
   "execution_count": 38,
   "metadata": {},
   "outputs": [
    {
     "name": "stdout",
     "output_type": "stream",
     "text": [
      " pH3=  2.46  +/-  0.06\n",
      "2.4  < pH3 <  2.52\n"
     ]
    }
   ],
   "source": [
    "print(\" pH3= \", moy_ph3, \" +/- \",U_ph3) \n",
    "print( round(moy_ph3-U_ph3,2) ,\" < pH3 < \" ,round(moy_ph3+U_ph3,2))"
   ]
  },
  {
   "cell_type": "markdown",
   "metadata": {},
   "source": [
    "### Solution 4"
   ]
  },
  {
   "cell_type": "code",
   "execution_count": 12,
   "metadata": {},
   "outputs": [
    {
     "name": "stdout",
     "output_type": "stream",
     "text": [
      " pH4=  3.0  +/-  0.05\n",
      "2.95  < pH4 <  3.05\n"
     ]
    }
   ],
   "source": [
    "print(\" pH4= \", moy_ph4, \" +/- \",U_ph4) \n",
    "print( round(moy_ph4-U_ph4,2) ,\" < pH4 < \" ,round(moy_ph4+U_ph4,2))"
   ]
  },
  {
   "cell_type": "markdown",
   "metadata": {},
   "source": [
    "### Solution 5"
   ]
  },
  {
   "cell_type": "code",
   "execution_count": 13,
   "metadata": {},
   "outputs": [
    {
     "name": "stdout",
     "output_type": "stream",
     "text": [
      " pH5 =  3.3  +/-  0.08\n",
      "3.22  < pH5 <  3.38\n"
     ]
    }
   ],
   "source": [
    "print(\" pH5 = \", moy_ph5, \" +/- \",U_ph5) \n",
    "print( round(moy_ph5-U_ph5,2) ,\" < pH5 < \" ,round(moy_ph5+U_ph5,2))"
   ]
  },
  {
   "cell_type": "markdown",
   "metadata": {},
   "source": [
    "### Solution 6"
   ]
  },
  {
   "cell_type": "code",
   "execution_count": 14,
   "metadata": {},
   "outputs": [
    {
     "name": "stdout",
     "output_type": "stream",
     "text": [
      " pH6=  3.94  +/-  0.1\n",
      "3.84  < pH6 <  4.04\n"
     ]
    }
   ],
   "source": [
    "print(\" pH6= \", moy_ph6, \" +/- \",U_ph6) \n",
    "print( round(moy_ph6-U_ph6,2) ,\" < pH6 < \" ,round(moy_ph6+U_ph6,2))"
   ]
  },
  {
   "cell_type": "markdown",
   "metadata": {},
   "source": [
    "<div class = \"alert alert-info\"> \n",
    "    \n",
    "**Question 6:**  \n",
    "Pour quelles solutions le pHtéorique ne trouve pas dans l'intervalle? Proposer une explication.\n",
    " \n",
    "</div>"
   ]
  },
  {
   "cell_type": "code",
   "execution_count": null,
   "metadata": {},
   "outputs": [],
   "source": []
  }
 ],
 "metadata": {
  "kernelspec": {
   "display_name": "Python 3",
   "language": "python",
   "name": "python3"
  },
  "language_info": {
   "codemirror_mode": {
    "name": "ipython",
    "version": 3
   },
   "file_extension": ".py",
   "mimetype": "text/x-python",
   "name": "python",
   "nbconvert_exporter": "python",
   "pygments_lexer": "ipython3",
   "version": "3.7.1"
  }
 },
 "nbformat": 4,
 "nbformat_minor": 2
}
