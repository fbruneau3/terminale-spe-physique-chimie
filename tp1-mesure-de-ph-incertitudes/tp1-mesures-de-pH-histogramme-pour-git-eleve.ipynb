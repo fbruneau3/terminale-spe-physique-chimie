{
 "cells": [
  {
   "cell_type": "markdown",
   "metadata": {},
   "source": [
    "# <center><font color =\"red\">Incertitude sur les mesures de pH réalisées dans le Tp 1</font></center>"
   ]
  },
  {
   "cell_type": "code",
   "execution_count": null,
   "metadata": {},
   "outputs": [],
   "source": [
    "# Install a conda package in the current Jupyter kernel\n",
    "import sys\n",
    "!conda install --yes --prefix {sys.prefix} numpy\n",
    "!conda install --yes --prefix {sys.prefix} matplotlib"
   ]
  },
  {
   "cell_type": "markdown",
   "metadata": {},
   "source": [
    "# <font color=#3D6BBC > Récupération des mesures à la fin du TP</font>"
   ]
  },
  {
   "cell_type": "markdown",
   "metadata": {},
   "source": [
    "<div class=\"bg-danger text-danger\">\n",
    "    \n",
    "- pHi est le pH de la solution i.     \n",
    "- les valeurs de pHi mesurées ont été mises dans le tableau excel.   \n",
    "\n",
    "<font color =\"red\">ATTENTION :  </font> Ne pas mettre de virgule mais un point en entrant les valeurs    \n",
    "-  le fichier mesures_ph a été enregistré au format CSV pour une utilisation dans le programme python. \n",
    "</div>"
   ]
  },
  {
   "cell_type": "markdown",
   "metadata": {},
   "source": [
    "# <font color=#3D6BBC > Traitement statistique d'une série de mesures : incertitude de type A </font>"
   ]
  },
  {
   "cell_type": "markdown",
   "metadata": {},
   "source": [
    "<div class = \"alert alert-info\">\n",
    "\n",
    "\n",
    "**Question 1:**  \n",
    "    \n",
    "Ce programme a été  réalisé pour uniquement 3 solutions. Le modifier pour qu'il prenne en compte les mesures des 6 pH.\n",
    "</div>\n"
   ]
  },
  {
   "cell_type": "markdown",
   "metadata": {},
   "source": [
    "### Importation des données depuis un fichier CSV"
   ]
  },
  {
   "cell_type": "code",
   "execution_count": null,
   "metadata": {},
   "outputs": [],
   "source": [
    "import csv\n",
    "import matplotlib.pyplot as plt\n",
    "%matplotlib inline\n",
    "import numpy as np\n",
    "\n",
    "#Création d'un dictionnaire contenant les valeurs de pH\n",
    "pH = []\n",
    "with open('mesures_ph.csv', newline='') as csvfile:\n",
    "    file = csv.DictReader(csvfile, delimiter=\";\")\n",
    "    for ligne in file:\n",
    "        pH.append(dict(ligne))\n",
    "        \n",
    "nb_mesures=len(pH)\n",
    "print(\"il y a :\", nb_mesures , \"binômes\")\n",
    "print()\n",
    "\n",
    "#Affichage des mesures et du nombre de binômes (regroupement de plusieurs classe)\n",
    "print(np.array(pH)) \n"
   ]
  },
  {
   "cell_type": "markdown",
   "metadata": {},
   "source": [
    "### Création des listes contenant les mesures du pH pour chacune des solutions"
   ]
  },
  {
   "cell_type": "code",
   "execution_count": null,
   "metadata": {},
   "outputs": [],
   "source": [
    "#Initialisation des listes(à compléter)\n",
    "\n",
    "liste_pH1=[]\n",
    "liste_pH2=[]\n",
    "liste_pH3=[]\n",
    "\n",
    "\n",
    "#Lecture du fichier ligne par ligne et ajout dans les listes au fur et à mesure  (à compléter)\n",
    "for groupe in pH:\n",
    "    liste_pH1.append(float(groupe['pH1']))\n",
    "    liste_pH2.append(float(groupe['pH2']))\n",
    "    liste_pH3.append(float(groupe['pH3']))\n",
    "   "
   ]
  },
  {
   "cell_type": "markdown",
   "metadata": {},
   "source": [
    "### Tracer des histogrammes"
   ]
  },
  {
   "cell_type": "code",
   "execution_count": null,
   "metadata": {},
   "outputs": [],
   "source": [
    "#Histogramme pour les mesures de pH de la solution 1\n",
    "plt.figure(1)  # Création du cadre\n",
    "plt.hist(liste_pH1,color='b')  # création de l'histogramme mis en bleu (b)\n",
    "plt.ylabel('Fréquence')  # titre de l'axe des ordonnées\n",
    "plt.xlabel('pH1')  #titre de l'axe des abscisses\n",
    "plt.title(\"Mesures de pH1 effectuées par \"+str(nb_mesures)+\" groupes.\")  #Titre de l'histogramme\n",
    "\n",
    "#Histogramme pour les mesures de pH de la solution 2\n",
    "plt.figure(2)\n",
    "plt.hist(liste_pH2,color='r') # création de l'histogramme mis en rouge (r)\n",
    "plt.ylabel('Fréquence')\n",
    "plt.xlabel('pH2')\n",
    "plt.title(\"Mesures de pH2 effectuées par \"+str(nb_mesures)+\" groupes.\")\n",
    "\n",
    "#Histogramme pour les mesures de pH de la solution 3\n",
    "plt.figure(3)\n",
    "plt.hist(liste_pH3,color='g') # création de l'histogramme mis en vert (g)\n",
    "plt.ylabel('Fréquence')\n",
    "plt.xlabel('pH3')\n",
    "plt.title(\"Mesures de pH3 effectuées par \"+str(nb_mesures)+\" groupes.\")\n",
    "\n",
    "#Histogramme pour les mesures de pH de la solution 4  (à compléter)\n",
    "\n",
    "\n",
    "#Histogramme pour les mesures de pH de la solution 5  (à compléter)\n",
    "\n",
    "\n",
    "#Histogramme pour les mesures de pH de la solution 6   (à compléter)\n",
    "\n",
    "\n",
    "\n",
    "plt.show()\n",
    "\n",
    "\n"
   ]
  },
  {
   "cell_type": "markdown",
   "metadata": {},
   "source": [
    "<div class = \"alert alert-info\">\n",
    "\n",
    "**Question 2:**  \n",
    "    \n",
    "Observer et comparer 6 les histogrammes.   (Mettre votre réponse dans la cellule suivante)\n",
    "\n",
    "</div>"
   ]
  },
  {
   "cell_type": "raw",
   "metadata": {},
   "source": []
  },
  {
   "cell_type": "markdown",
   "metadata": {},
   "source": [
    "<div class = \"alert alert-info\">\n",
    "\n",
    "**Question 3:**  \n",
    "    \n",
    "Quelle peut-être l'origine de la dispersion des résultats? Proposer plusieurs causes éventuelles.\n",
    "Etes-vous sûr du résultat obtenu?    (Mettre votre réponse dans la cellule suivante)\n",
    "\n",
    "</div>"
   ]
  },
  {
   "cell_type": "raw",
   "metadata": {},
   "source": []
  },
  {
   "cell_type": "markdown",
   "metadata": {},
   "source": [
    "\n"
   ]
  },
  {
   "cell_type": "markdown",
   "metadata": {},
   "source": [
    "Nous allons donc calculer l'incertitude sur la mesure du pH **U(pH)**"
   ]
  },
  {
   "cell_type": "markdown",
   "metadata": {},
   "source": [
    "<div class = \"alert alert-info\"> \n",
    "    \n",
    "Voir document **La mesure en sciences expérimentales - Erreurs et incertitudes** \n",
    "\n",
    "</div>"
   ]
  },
  {
   "cell_type": "markdown",
   "metadata": {},
   "source": [
    "<div class = \"alert alert-info\"> \n",
    "    \n",
    "**Question 4:**  \n",
    "Pour chaque solution, calculer :\n",
    "\n",
    "- la moyenne notée moy_phi,\n",
    "- l'écart type noté Sexp_i,\n",
    "- l'incertitude de répétition u$_{rèp}$ noté urep_i\n",
    "- l'incertitude absolue U(pHi), noté U_phi pour un niveau de confiance de 95% soit k=2.  \n",
    "\n",
    "Pour cela vous pourrez vous aider de la **page 543**  de votre livre et de l'exemple ci-dessous concernant la solution 1. Utiliser la syntaxe python et non NumPy.\n",
    "\n",
    "</div>"
   ]
  },
  {
   "cell_type": "markdown",
   "metadata": {},
   "source": [
    "### Solution 1"
   ]
  },
  {
   "cell_type": "code",
   "execution_count": null,
   "metadata": {},
   "outputs": [],
   "source": [
    "#Calcul de la moyenne des pH de la solution 1 : moy_ph1\n",
    "moy_ph1=round(sum(liste_pH1)/nb_mesures,2)\n",
    "print(\"pH1 moy = \", moy_ph1)\n",
    "\n",
    "#Calcul de l'écart-type du pH de la solution 1\n",
    "somme=0\n",
    "for i in range(nb_mesures):\n",
    "    somme=somme +(liste_pH1[i]-moy_ph1)**2\n",
    "Sexp_1=(somme/(nb_mesures-1))**0.5\n",
    "print(\"écart-type de la solution 1 = \", round(Sexp_1,3))\n",
    "\n",
    "# Calcul de l'incertitude de répétabilité   ou incertitude de type pour la solution 1\n",
    "urep_1=Sexp_1/(nb_mesures)**0.5 \n",
    "print(\"l'incertitude de type A pour la solution 1 est :\" , round(urep_1,3))\n",
    "\n",
    "# Calcul de l'incertitude élargie ou incertitude absolue U(pH1)\n",
    "U_ph1= round(2* urep_1,2)\n",
    "print(\"l'incertitude absolue pour la mesure de pH1 est \", U_ph1)"
   ]
  },
  {
   "cell_type": "markdown",
   "metadata": {},
   "source": [
    "### Solution 2"
   ]
  },
  {
   "cell_type": "code",
   "execution_count": null,
   "metadata": {},
   "outputs": [],
   "source": [
    "#Calcul de la moyenne des pH de la solution 2 : moy_ph2\n",
    "\n",
    "\n",
    "#Calcul de l'écart-type du pH de la solution 2\n",
    "\n",
    "\n",
    "# Calcul de l'incertitude de répétabilité   ou incertitude de type pour la solution 2\n",
    "\n",
    "\n",
    "# Calcul de l'incertitude élargie ou incertitude absolue U(pH2)\n"
   ]
  },
  {
   "cell_type": "markdown",
   "metadata": {},
   "source": [
    "### Solution 3"
   ]
  },
  {
   "cell_type": "code",
   "execution_count": null,
   "metadata": {},
   "outputs": [],
   "source": [
    "#Calcul de la moyenne des pH de la solution 3 : moy_ph3\n",
    "\n",
    "\n",
    "#Calcul de l'écart-type du pH de la solution 2\n",
    "\n",
    "\n",
    "# Calcul de l'incertitude de répétabilité ou incertitude de type pour la solution 3\n",
    "\n",
    "\n",
    "\n",
    "# Calcul de l'incertitude élargie ou incertitude absolue U(pH3)\n"
   ]
  },
  {
   "cell_type": "markdown",
   "metadata": {},
   "source": [
    "### Solution 4"
   ]
  },
  {
   "cell_type": "code",
   "execution_count": null,
   "metadata": {},
   "outputs": [],
   "source": [
    "#Calcul de la moyenne des pH de la solution 4 : moy_ph4\n",
    "\n",
    "#Calcul de l'écart-type du pH de la solution 4\n",
    "\n",
    "\n",
    "# Calcul de l'incertitude de répétabilité   ou incertitude de type pour la solution 4\n",
    "\n",
    "\n",
    "# Calcul de l'incertitude élargie ou incertitude absolue U(pH4)\n"
   ]
  },
  {
   "cell_type": "markdown",
   "metadata": {},
   "source": [
    "### Solution 5"
   ]
  },
  {
   "cell_type": "code",
   "execution_count": null,
   "metadata": {},
   "outputs": [],
   "source": [
    "#Calcul de la moyenne des pH de la solution 5 : moy_ph5\n",
    "\n",
    "\n",
    "#Calcul de l'écart-type du pH de la solution 5\n",
    "\n",
    "\n",
    "# Calcul de l'incertitude de répétabilité   ou incertitude de type pour la solution 5\n",
    "\n",
    "\n",
    "# Calcul de l'incertitude élargie ou incertitude absolue U(pH5)\n"
   ]
  },
  {
   "cell_type": "markdown",
   "metadata": {},
   "source": [
    "### Solution 6"
   ]
  },
  {
   "cell_type": "code",
   "execution_count": null,
   "metadata": {},
   "outputs": [],
   "source": [
    "#Calcul de la moyenne des pH de la solution 6 : moy_ph6\n",
    "\n",
    "\n",
    "#Calcul de l'écart-type du pH de la solution 6\n",
    "\n",
    "\n",
    "# Calcul de l'incertitude de répétabilité   ou incertitude de type pour la solution 6\n",
    "\n",
    "\n",
    "# Calcul de l'incertitude élargie ou incertitude absolue U(pH6)\n"
   ]
  },
  {
   "cell_type": "markdown",
   "metadata": {},
   "source": [
    "<div class = \"alert alert-info\"> \n",
    "    \n",
    "**Question 5:**  \n",
    "Pour chaque solution, donner le résultat sous forme d'un encadrement.\n",
    "Vérifier que cet encadrement contient le pH théorique.\n",
    " \n",
    "</div>"
   ]
  },
  {
   "cell_type": "markdown",
   "metadata": {},
   "source": [
    "### Solution 1"
   ]
  },
  {
   "cell_type": "code",
   "execution_count": null,
   "metadata": {},
   "outputs": [],
   "source": [
    "print(\" pH1= \", moy_ph1, \" +/- \",U_ph1) \n",
    "print( round(moy_ph1-U_ph1,2) ,\" < pH1 < \" ,round(moy_ph1+U_ph1,2))"
   ]
  },
  {
   "cell_type": "markdown",
   "metadata": {},
   "source": [
    "### Solution 2"
   ]
  },
  {
   "cell_type": "code",
   "execution_count": null,
   "metadata": {},
   "outputs": [],
   "source": []
  },
  {
   "cell_type": "markdown",
   "metadata": {},
   "source": [
    "### Solution 3"
   ]
  },
  {
   "cell_type": "code",
   "execution_count": null,
   "metadata": {},
   "outputs": [],
   "source": []
  },
  {
   "cell_type": "markdown",
   "metadata": {},
   "source": [
    "### Solution 4"
   ]
  },
  {
   "cell_type": "code",
   "execution_count": null,
   "metadata": {},
   "outputs": [],
   "source": []
  },
  {
   "cell_type": "markdown",
   "metadata": {},
   "source": [
    "### Solution 5"
   ]
  },
  {
   "cell_type": "code",
   "execution_count": null,
   "metadata": {},
   "outputs": [],
   "source": []
  },
  {
   "cell_type": "markdown",
   "metadata": {},
   "source": [
    "### Solution 6"
   ]
  },
  {
   "cell_type": "code",
   "execution_count": null,
   "metadata": {},
   "outputs": [],
   "source": []
  },
  {
   "cell_type": "markdown",
   "metadata": {},
   "source": [
    "<div class = \"alert alert-info\"> \n",
    "    \n",
    "**Question 6:**  \n",
    "Pour quelles solutions le pHthéorique ne trouve pas dans l'intervalle? Proposer une explication.\n",
    " \n",
    "</div>"
   ]
  },
  {
   "cell_type": "code",
   "execution_count": null,
   "metadata": {},
   "outputs": [],
   "source": []
  }
 ],
 "metadata": {
  "kernelspec": {
   "display_name": "Python 3",
   "language": "python",
   "name": "python3"
  },
  "language_info": {
   "codemirror_mode": {
    "name": "ipython",
    "version": 3
   },
   "file_extension": ".py",
   "mimetype": "text/x-python",
   "name": "python",
   "nbconvert_exporter": "python",
   "pygments_lexer": "ipython3",
   "version": "3.7.1"
  }
 },
 "nbformat": 4,
 "nbformat_minor": 2
}
