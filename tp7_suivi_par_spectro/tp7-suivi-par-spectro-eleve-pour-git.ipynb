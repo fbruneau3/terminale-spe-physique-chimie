{
 "cells": [
  {
   "cell_type": "markdown",
   "metadata": {},
   "source": [
    "# <center><font color =\"red\">Tp7 Suivi de l’évolution d’une transformation chimique par spectrophotométrie  </font></center>"
   ]
  },
  {
   "cell_type": "markdown",
   "metadata": {},
   "source": [
    "**Capacité numérique** : À l’aide d’un langage de programmation et à partir de données expérimentales, tracer l’évolution temporelle d’une concentration, d’une vitesse volumique d’apparition ou de disparition et tester une relation entre la vitesse volumique de disparition et la concentration d'un réactif."
   ]
  },
  {
   "cell_type": "code",
   "execution_count": null,
   "metadata": {},
   "outputs": [],
   "source": [
    "# Install a conda package in the current Jupyter kernel\n",
    "import sys\n",
    "!conda install --yes --prefix {sys.prefix} numpy\n",
    "!conda install --yes --prefix {sys.prefix} matplotlib"
   ]
  },
  {
   "cell_type": "markdown",
   "metadata": {},
   "source": [
    "## <font color=#3D6BBC > 2. Relation entre [I$_{2}$] et et l'absorbance A </font>"
   ]
  },
  {
   "cell_type": "code",
   "execution_count": null,
   "metadata": {},
   "outputs": [],
   "source": [
    "#Importation des bibliothèques nécessaires\n",
    "import csv\n",
    "import matplotlib.pyplot as plt\n",
    "%matplotlib inline\n",
    "import numpy as np"
   ]
  },
  {
   "cell_type": "markdown",
   "metadata": {},
   "source": [
    "- ### <font color=red>récupération des mesures d'absorbances </font>"
   ]
  },
  {
   "cell_type": "code",
   "execution_count": null,
   "metadata": {},
   "outputs": [],
   "source": [
    "#Création d'un dictionnaire contenant les valeurs de d'absorbances mesurées\n",
    "mesures = []\n",
    "with open('tp7_etalonnage.csv', newline='') as csvfile:\n",
    "    file = csv.DictReader(csvfile, delimiter=\";\")\n",
    "    for ligne in file:\n",
    "        mesures.append(dict(ligne))\n",
    "\n",
    "print(np.array(mesures))   #affichage du tableau de mesures"
   ]
  },
  {
   "cell_type": "markdown",
   "metadata": {},
   "source": [
    "- ### <font color=red> Préparation de la liste C contenant les valeurs des concentrations de diiode et de la liste A contenant les valeurs d'absorbance</font>"
   ]
  },
  {
   "cell_type": "code",
   "execution_count": null,
   "metadata": {},
   "outputs": [],
   "source": [
    "C=[] \n",
    "A=[]\n",
    "for couple in mesures:\n",
    "    C.append(float(couple['[I2] (mol/L)']))\n",
    "    A.append(float(couple['A']))\n",
    "print(\"Liste C contenant les valeurs de la concentration de diiode :\")\n",
    "print(np.array(C))\n",
    "print()\n",
    "print(\"Liste A contenant les valeurs d'absorbance :\")\n",
    "print(np.array(A))"
   ]
  },
  {
   "cell_type": "markdown",
   "metadata": {},
   "source": [
    "- ### <font color=red>Tracé de la courbe d'étalonnage A en fonction de [I$_{2}$]</font>"
   ]
  },
  {
   "cell_type": "markdown",
   "metadata": {},
   "source": [
    "> **Document 1**   \n",
    "La fonction np.polyfit(x,y,1) modélise le nuage de points de coordonnées (x,y) par une droite d'équation y = ax+b et renvoie les valeurs a et b."
   ]
  },
  {
   "cell_type": "code",
   "execution_count": null,
   "metadata": {},
   "outputs": [],
   "source": [
    "#Tracé du nuage de points\n",
    "nom=\"courbe_d_etalonnage\"\n",
    "plt.plot(C,A,\"rx\",label=nom) #Voir mémo python de votre livre p 541\n",
    "\n",
    "#Titres des axes et du graphique\n",
    "plt.title(\"A en fonction de [I2]\",color='black')\n",
    "plt.ylabel('Absorbance')#nom de l'axe des ordonnées\n",
    "plt.xlabel(\"[I2] en mol/L\")#nom des axes des abscisses\n",
    "\n",
    "#modélisation linéaire de la courbe\n",
    "#k=coef directeur de la droite\n",
    "#b=ordonnée à l'origine\n",
    "k,b = np.polyfit(C,A,1)\n",
    "\n",
    "#écriture de k et b en notation scientifique avec deux chiffres après la virgule\n",
    "print(\"k = \", format(k,\".2e\"),\" b = \" ,format(b,\".2e\")) \n",
    "\n",
    "\n",
    "#création du tableau des ordonnées A pour tracer la droite moyenne\n",
    "A_mod=[]\n",
    "for i in range(len(C)):\n",
    "    Ai=k*C[i]+b     \n",
    "    A_mod.append(Ai)\n",
    "\n",
    "#Tracé de la droite moyenne\n",
    "plt.plot(C,A_mod,\"b-\",label=\"Droite moyenne\")\n",
    "\n",
    "#affichage de la légende\n",
    "plt.legend()\n",
    "plt.show() \n"
   ]
  },
  {
   "cell_type": "markdown",
   "metadata": {},
   "source": [
    "<div class = \"alert alert-info\">  \n",
    "\n",
    "**Question 2.5**:  \n",
    "En vous aidant du document 1 et des résultats du programme précédent, donner la relation entre A et [I$_{2}$]. (dans la cellule ci-dessous) \n",
    "La loi de Beer-Lambert est-elle vérifiée?\n",
    "\n",
    "Vous pouvez répondre sur votre feuille de compte-rendu.  \n",
    "</div>"
   ]
  },
  {
   "cell_type": "raw",
   "metadata": {},
   "source": []
  },
  {
   "cell_type": "raw",
   "metadata": {},
   "source": []
  },
  {
   "cell_type": "markdown",
   "metadata": {},
   "source": [
    "## <font color=#3D6BBC > 3.\tSuivi spectrophotométrique d’une transformation chimique ne faisant intervenir qu’une réaction chimique : oxydation des ions iodure par les ions peroxodisulfate S$_{2}$O$_{8}$$^{2-}$  </font>"
   ]
  },
  {
   "cell_type": "markdown",
   "metadata": {},
   "source": [
    "- ### <font color=red>récupération des mesures d'absorbances en fonction du temps</font>"
   ]
  },
  {
   "cell_type": "code",
   "execution_count": null,
   "metadata": {},
   "outputs": [],
   "source": [
    "###### Création d'un dictionnaire contenant les valeurs de d'absorbances mesurées lors du suivi \n",
    "suivi_spectro = []\n",
    "with open('tp7_suivi_spectro.csv', newline='') as csvfile:\n",
    "    file = csv.DictReader(csvfile, delimiter=\";\")\n",
    "    for ligne in file:\n",
    "        suivi_spectro.append(dict(ligne))\n",
    "\n",
    "print(np.array(suivi_spectro))"
   ]
  },
  {
   "cell_type": "markdown",
   "metadata": {},
   "source": [
    "- ### <font color=red> Préparation de la liste t contenant les valeurs des dates et de la liste A_t contenant les valeurs des absorbances mesurées à l'instant t </font>"
   ]
  },
  {
   "cell_type": "code",
   "execution_count": null,
   "metadata": {},
   "outputs": [],
   "source": [
    "A_t=[] # récupération des valeurs d'absorbance\n",
    "t=[] # récupération des valeurs du temps\n",
    "for couple in suivi_spectro:\n",
    "    A_t.append(float(couple['A']))\n",
    "    t.append(float(couple['date ti de prélèvement (min)']))\n",
    "print(\"Liste des dates t (min) :  \")\n",
    "print(np.array(t))\n",
    "print()\n",
    "print(\"Liste des absorbances mesurées aux dates t :  \")\n",
    "print(np.array(A_t))\n"
   ]
  },
  {
   "cell_type": "markdown",
   "metadata": {},
   "source": [
    "- ### <font color=red> On souhaite maintenant tracer la concentration de diiode formé [I$_{2}$] en fonction du temps </font>"
   ]
  },
  {
   "cell_type": "markdown",
   "metadata": {},
   "source": [
    "<div class = \"alert alert-info\">  \n",
    "\n",
    "**Question 3.1**:   \n",
    "    En vous aidant de la relation obtenue dans le 2., compléter la partie de code encadrée ci-dessous\n",
    "</div>"
   ]
  },
  {
   "cell_type": "code",
   "execution_count": null,
   "metadata": {},
   "outputs": [],
   "source": [
    "#Initialisation de la liste contenant les concentrations de I2 formé au cours du temps\n",
    "C_t=[] \n",
    "\n",
    "#---------------partie de code à compléter----------------------------------\n",
    "#Calcul de la concentration [I2] en fonction du temps \n",
    "for i in range(len(A_t)):\n",
    "                             # ligne à compléter\n",
    "    C_t.append(Ci)\n",
    "#----------------------------------------------------------------------\n",
    "\n",
    "#Affichage des concentrations calculées\n",
    "print(np.array(C_t))\n",
    "\n"
   ]
  },
  {
   "cell_type": "code",
   "execution_count": null,
   "metadata": {},
   "outputs": [],
   "source": [
    "#------------------------------------------------------------------------------\n",
    "#   Tracé de la concentration de diiode formé au cours du temps\n",
    "#------------------------------------------------------------------------------\n",
    "\n",
    "plt.plot(t,C_t,\"rx\") \n",
    "\n",
    "#Titres des axes et du graphique\n",
    "plt.title(\"[I2] en fonction du temps\",color='black')\n",
    "plt.ylabel('[I2] en mol/L')#nom de l'axe des ordonnées\n",
    "plt.xlabel(\"temps (min)\")#nom des axes des abscisses\n",
    "\n",
    "plt.show() "
   ]
  },
  {
   "cell_type": "markdown",
   "metadata": {},
   "source": [
    "<div class = \"alert alert-info\">  \n",
    "\n",
    "**Question 3.2**:   \n",
    "    En observant la courbe obtenue ci-dessus, indiquer à partir de quelle date on peut considérer que la transformation chimique est terminée.\n",
    " </div>"
   ]
  },
  {
   "cell_type": "raw",
   "metadata": {},
   "source": []
  },
  {
   "cell_type": "markdown",
   "metadata": {},
   "source": [
    "- ### <font color=red> On souhaite maintenant tracer la concentration des ions peroxodisulfates formés [S$_{2}$O$_{8}$$^{2-}$ ] en fonction du temps </font>"
   ]
  },
  {
   "cell_type": "markdown",
   "metadata": {},
   "source": [
    "  <div class = \"alert alert-info\">  \n",
    "\n",
    "**Question 3.3**:   \n",
    "Exprimer la quantité de diiode n (I$_{2}$) formé au cours du temps en fonction de la concentration de [I$_{2}$].   \n",
    "(la réponse peut-être mise sur votre feuille de compte-rendu de tp.)\n",
    " </div>"
   ]
  },
  {
   "cell_type": "raw",
   "metadata": {},
   "source": []
  },
  {
   "cell_type": "raw",
   "metadata": {},
   "source": []
  },
  {
   "cell_type": "markdown",
   "metadata": {},
   "source": [
    "  <div class = \"alert alert-info\">  \n",
    "\n",
    "**Question 3.4**:   \n",
    "D'après l'équation de la réaction, établir la relation entre la quantité d'ions peroxodisulfates restants n(S$_{2}$O$_{8}$$^{2-}$) , la quantité de diiode n (I$_{2}$) formés, C$_{1}$ et V$_{1}$.        \n",
    "(la réponse peut-être mise sur votre feuille de compte-rendu de tp.)\n",
    " </div>"
   ]
  },
  {
   "cell_type": "raw",
   "metadata": {},
   "source": []
  },
  {
   "cell_type": "raw",
   "metadata": {},
   "source": []
  },
  {
   "cell_type": "raw",
   "metadata": {},
   "source": []
  },
  {
   "cell_type": "markdown",
   "metadata": {},
   "source": [
    "  <div class = \"alert alert-info\">  \n",
    "\n",
    "**Question 3.5**:   \n",
    "En déduire la concentration des ions peroxodisulfate [S$_{2}$O$_{8}$$^{2-}$]  en fonction de la concentration de diiode [I$_{2}$].     \n",
    "(la réponse peut-être mise sur votre feuille de compte-rendu de tp.)\n",
    " </div>"
   ]
  },
  {
   "cell_type": "markdown",
   "metadata": {},
   "source": [
    "  "
   ]
  },
  {
   "cell_type": "markdown",
   "metadata": {},
   "source": [
    "   "
   ]
  },
  {
   "cell_type": "markdown",
   "metadata": {},
   "source": [
    "  "
   ]
  },
  {
   "cell_type": "raw",
   "metadata": {},
   "source": []
  },
  {
   "cell_type": "raw",
   "metadata": {},
   "source": []
  },
  {
   "cell_type": "markdown",
   "metadata": {},
   "source": [
    "<div class = \"alert alert-info\">  \n",
    "\n",
    "**Question 3.6**:   \n",
    "Compléter le code ci-dessous pour calculer les concentrations des ions peroxodisulfate en fonction du temps : [S$_{2}$O$_{8}$$^{2-}$].   \n",
    "\n",
    "On appelle C_peroxo cette concentration.\n",
    " </div>"
   ]
  },
  {
   "cell_type": "code",
   "execution_count": null,
   "metadata": {},
   "outputs": [],
   "source": [
    "#Initialisation de la liste contenant les concentrations d'ion peroxodisulfate formé au cours du temps\n",
    "C_peroxo=[] \n",
    "\n",
    "#---------------partie de code à compléter----------------------------------\n",
    "#Calcul de la concentration en ions peroxodisulfates en fonction du temps \n",
    "for i in range(len(C_t)):\n",
    "                             # ligne à compléter\n",
    "    C_peroxo.append(Ci)\n",
    "#----------------------------------------------------------------------\n",
    "\n",
    "#Affichage des concentrations calculées\n",
    "print(np.array(C_peroxo))\n",
    "\n"
   ]
  },
  {
   "cell_type": "markdown",
   "metadata": {},
   "source": [
    "<div class = \"alert alert-info\">  \n",
    "\n",
    "**Question 3.7**:   \n",
    "Compléter le code ci-dessous pour tracer l'évolution de la concentration en ions peroxodisulfates en fonction du temps.   \n",
    "\n",
    " </div>"
   ]
  },
  {
   "cell_type": "code",
   "execution_count": null,
   "metadata": {},
   "outputs": [],
   "source": [
    "#------------------------------------------------------------------------------\n",
    "#   Tracé de la concentration des ions peroxodisulfate restant au cours du temps\n",
    "#------------------------------------------------------------------------------\n",
    "\n",
    "#---------------partie de code à compléter----------------------------------\n",
    " \n",
    "\n",
    "#Titres des axes et du graphique\n",
    " \n",
    "\n",
    "#----------------------------------------------------------------------------"
   ]
  },
  {
   "cell_type": "markdown",
   "metadata": {},
   "source": [
    "- ### <font color=red> On souhaite maintenant tracer la vitesse volumique de disparition des ions peroxodisulfate  en fonction du temps </font>"
   ]
  },
  {
   "cell_type": "markdown",
   "metadata": {},
   "source": [
    "![center](vitesse-disparition-reactif.png)"
   ]
  },
  {
   "cell_type": "markdown",
   "metadata": {},
   "source": [
    "<div class = \"alert alert-info\">  \n",
    "\n",
    "**Question 3.8**:   \n",
    "    En vous aidant du document précédent, compléter la partie de code encradrée ci-dessous permettant de calculer la vitesse volumique de disparition des ions peroxodisulfate.   \n",
    "</div>"
   ]
  },
  {
   "cell_type": "code",
   "execution_count": null,
   "metadata": {},
   "outputs": [],
   "source": [
    "#Calcul de la vitesse volumique de disparition des ions peroxodisulfates en fonction du temps\n",
    "v=[] #initisation de la liste contenant les vitesses\n",
    "\n",
    "#------------Partie de code à compléter --------------------------------\n",
    "\n",
    "for i in range (0,len(C_t)-1):  #ligne à expliquer dans la question 3.9.\n",
    "    \n",
    "                                # ligne à compléter\n",
    "    v.append(vi)\n",
    "    \n",
    "#----------------------------------------------------------------------\n",
    "\n",
    "print(np.array(v))\n",
    "\n",
    "\n"
   ]
  },
  {
   "cell_type": "markdown",
   "metadata": {},
   "source": [
    "<div class = \"alert alert-info\">  \n",
    "\n",
    "**Question 3.9**:   \n",
    "    Expliquer la ligne : for i in range (0,len(C_t)-1):\n",
    " </div>"
   ]
  },
  {
   "cell_type": "raw",
   "metadata": {},
   "source": []
  },
  {
   "cell_type": "code",
   "execution_count": null,
   "metadata": {},
   "outputs": [],
   "source": [
    "#--------------------------------------------------------------------------------------------------\n",
    "#   Tracé de la vitesse volumique de disparition des ions peroxodisulfate en fonction du temps\n",
    "#--------------------------------------------------------------------------------------------------\n",
    "#Il faut enlever la dernière valeurs du temps\n",
    "temps=np.delete(t,len(t)-1) \n",
    "\n",
    "print(np.array(temps))\n",
    "plt.plot(temps,v,\"rx\") \n",
    "\n",
    "#Titres des axes et du graphique\n",
    "plt.title(\"v en fonction du temps\",color='black')\n",
    "plt.ylabel('v en mol.L-1.min-1')#nom de l'axe des ordonnées\n",
    "plt.xlabel(\"temps (min)\")#nom des axes des abscisses\n",
    "\n",
    "plt.show() "
   ]
  },
  {
   "cell_type": "markdown",
   "metadata": {},
   "source": [
    "<div class = \"alert alert-info\">  \n",
    "\n",
    "**Question 3.10**:   \n",
    "Compléter la partie de code permettant de tracer la vitesse volumique de disparition des ions peroxodisulfates en fonction de la concentration en ions peroxodisulfates restants.\n",
    "\n",
    " </div>"
   ]
  },
  {
   "cell_type": "code",
   "execution_count": null,
   "metadata": {},
   "outputs": [],
   "source": [
    "#------------------------------------------------------------------------------\n",
    "#   Tracé de la la vitesse volumique de disparition des ions peroxodisulfate en \n",
    "#    fonction de la concentration en ions peroxodisulfate\n",
    "#------------------------------------------------------------------------------\n",
    "\n",
    "#Il faut enlever la dernière valeurs de la concentration\n",
    "C_peroxo=np.delete(C_peroxo,len(t)-1) \n",
    "\n",
    "#---------------partie de code à compléter----------------------------------\n",
    "                              # Ligne à compléter\n",
    "\n",
    "#Titres des axes et du graphique\n",
    "plt.title(\"v de disparition en fonction de la concentration des ions peroxodisulfate\",color='black')\n",
    "                                                #nom de l'axe des ordonnées   # Ligne à compléter\n",
    "                                                #nom des axes des abscisses      # Ligne à compléter\n",
    "\n",
    "\n",
    "plt.show() \n",
    "\n",
    "#----------------------------------------------------------------------------"
   ]
  },
  {
   "cell_type": "markdown",
   "metadata": {},
   "source": [
    "<div class = \"alert alert-info\">  \n",
    "\n",
    "**Question 3.11**:   \n",
    "En vous aidant du document ci-dessous, déterminer si la réaction étudiée est d'ordre 1. \n",
    "\n",
    " </div>"
   ]
  },
  {
   "cell_type": "markdown",
   "metadata": {},
   "source": [
    "![center](loi-ordre-un.png)"
   ]
  },
  {
   "cell_type": "raw",
   "metadata": {},
   "source": []
  },
  {
   "cell_type": "raw",
   "metadata": {},
   "source": []
  }
 ],
 "metadata": {
  "kernelspec": {
   "display_name": "Python 3",
   "language": "python",
   "name": "python3"
  },
  "language_info": {
   "codemirror_mode": {
    "name": "ipython",
    "version": 3
   },
   "file_extension": ".py",
   "mimetype": "text/x-python",
   "name": "python",
   "nbconvert_exporter": "python",
   "pygments_lexer": "ipython3",
   "version": "3.7.1"
  }
 },
 "nbformat": 4,
 "nbformat_minor": 2
}
