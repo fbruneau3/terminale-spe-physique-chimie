{
 "cells": [
  {
   "cell_type": "markdown",
   "metadata": {},
   "source": [
    "# <center><font color =\"red\">Tp7 Suivi de l’évolution d’une transformation chimique par spectrophotométrie  </font></center>"
   ]
  },
  {
   "cell_type": "markdown",
   "metadata": {},
   "source": [
    "**Capacité numérique** : À l’aide d’un langage de programmation et à partir de données expérimentales, tracer l’évolution temporelle d’une concentration, d’une vitesse volumique d’apparition ou de disparition et tester une relation entre la vitesse volumique de disparition et la concentration d'un réactif."
   ]
  },
  {
   "cell_type": "markdown",
   "metadata": {},
   "source": [
    "## <font color=#3D6BBC > 2. Relation entre [I$_{2}$] et et l'absorbance A </font>"
   ]
  },
  {
   "cell_type": "code",
   "execution_count": 1,
   "metadata": {},
   "outputs": [],
   "source": [
    "#Importation des bibliothèques nécessaires\n",
    "import csv\n",
    "import matplotlib.pyplot as plt\n",
    "%matplotlib inline\n",
    "import numpy as np"
   ]
  },
  {
   "cell_type": "markdown",
   "metadata": {},
   "source": [
    "- ### <font color=red>récupération des mesures d'absorbances </font>"
   ]
  },
  {
   "cell_type": "code",
   "execution_count": 2,
   "metadata": {},
   "outputs": [
    {
     "name": "stdout",
     "output_type": "stream",
     "text": [
      "[{'[I2] (mol/L)': '0', 'A': '0'} {'[I2] (mol/L)': '0.0005', 'A': '0.267'}\n",
      " {'[I2] (mol/L)': '0.001', 'A': '0.511'}\n",
      " {'[I2] (mol/L)': '0.0025', 'A': '1.215'}\n",
      " {'[I2] (mol/L)': '0.004', 'A': '1.9'}\n",
      " {'[I2] (mol/L)': '0.005', 'A': '2.301'}]\n"
     ]
    }
   ],
   "source": [
    "#Création d'un dictionnaire contenant les valeurs de d'absorbances mesurées\n",
    "mesures = []\n",
    "with open('tp7_etalonnage.csv', newline='') as csvfile:\n",
    "    file = csv.DictReader(csvfile, delimiter=\";\")\n",
    "    for ligne in file:\n",
    "        mesures.append(dict(ligne))\n",
    "\n",
    "print(np.array(mesures))   #affichage du tableau de mesures"
   ]
  },
  {
   "cell_type": "markdown",
   "metadata": {},
   "source": [
    "- ### <font color=red> Préparation de la liste C contenant les valeurs des concentrations de diiode et de la liste A contenant les valeurs d'absorbance</font>"
   ]
  },
  {
   "cell_type": "code",
   "execution_count": 3,
   "metadata": {},
   "outputs": [
    {
     "name": "stdout",
     "output_type": "stream",
     "text": [
      "Liste C contenant les valeurs de la concentration de diiode :\n",
      "[0.     0.0005 0.001  0.0025 0.004  0.005 ]\n",
      "\n",
      "Liste A contenant les valeurs d'absorbance :\n",
      "[0.    0.267 0.511 1.215 1.9   2.301]\n"
     ]
    }
   ],
   "source": [
    "C=[] \n",
    "A=[]\n",
    "for couple in mesures:\n",
    "    C.append(float(couple['[I2] (mol/L)']))\n",
    "    A.append(float(couple['A']))\n",
    "print(\"Liste C contenant les valeurs de la concentration de diiode :\")\n",
    "print(np.array(C))\n",
    "print()\n",
    "print(\"Liste A contenant les valeurs d'absorbance :\")\n",
    "print(np.array(A))"
   ]
  },
  {
   "cell_type": "markdown",
   "metadata": {},
   "source": [
    "- ### <font color=red>Tracé de la courbe d'étalonnage A en fonction de [I$_{2}$]</font>"
   ]
  },
  {
   "cell_type": "markdown",
   "metadata": {},
   "source": [
    "> **Document 1**   \n",
    "La fonction np.polyfit(x,y,1) modélise le nuage de points de coordonnées (x,y) par une droite d'équation y = ax+b et renvoie les valeurs a et b."
   ]
  },
  {
   "cell_type": "code",
   "execution_count": 4,
   "metadata": {},
   "outputs": [
    {
     "name": "stdout",
     "output_type": "stream",
     "text": [
      "k =  4.61e+02  b =  3.42e-02\n"
     ]
    },
    {
     "data": {
      "image/png": "[encoded data removed]",
      "text/plain": [
       "<Figure size 432x288 with 1 Axes>"
      ]
     },
     "metadata": {
      "needs_background": "light"
     },
     "output_type": "display_data"
    }
   ],
   "source": [
    "#Tracé du nuage de points\n",
    "nom=\"courbe_d_etalonnage\"\n",
    "plt.plot(C,A,\"rx\",label=nom) #Voir mémo python de votre livre p 541\n",
    "\n",
    "#Titres des axes et du graphique\n",
    "plt.title(\"A en fonction de [I2]\",color='black')\n",
    "plt.ylabel('Absorbance')#nom de l'axe des ordonnées\n",
    "plt.xlabel(\"[I2] en mol/L\")#nom des axes des abscisses\n",
    "\n",
    "#modélisation linéaire de la courbe\n",
    "#k=coef directeur de la droite\n",
    "#b=ordonnée à l'origine\n",
    "k,b = np.polyfit(C,A,1)\n",
    "\n",
    "#écriture de k et b en notation scientifique avec deux chiffres après la virgule\n",
    "print(\"k = \", format(k,\".2e\"),\" b = \" ,format(b,\".2e\")) \n",
    "\n",
    "\n",
    "#création du tableau des ordonnées A pour tracer la droite moyenne\n",
    "A_mod=[]\n",
    "for i in range(len(C)):\n",
    "    Ai=k*C[i]+b     \n",
    "    A_mod.append(Ai)\n",
    "\n",
    "#Tracé de la droite moyenne\n",
    "plt.plot(C,A_mod,\"b-\",label=\"Droite moyenne\")\n",
    "\n",
    "#affichage de la légende\n",
    "plt.legend()\n",
    "plt.show() \n"
   ]
  },
  {
   "cell_type": "markdown",
   "metadata": {},
   "source": [
    "<div class = \"alert alert-info\">  \n",
    "\n",
    "**Question 2.5**:  \n",
    "En vous aidant du document 1 et des résultats du programme précédent, donner la relation entre A et [I$_{2}$]. (dans la cellule ci-dessous) \n",
    "La loi de Beer-Lambert est-elle vérifiée?\n",
    "</div>"
   ]
  },
  {
   "cell_type": "markdown",
   "metadata": {},
   "source": [
    "A = 4.61x10$^{2}$ x [I$_{2}$]"
   ]
  },
  {
   "cell_type": "markdown",
   "metadata": {},
   "source": [
    "B très proche de 0 donc A = k x [I$_{2}$]\n",
    "A est bien proportionnel à [I$_{2}$]. La loi de Beer-Lambert est vérifiée."
   ]
  },
  {
   "cell_type": "markdown",
   "metadata": {},
   "source": [
    "## <font color=#3D6BBC > 3.\tSuivi spectrophotométrique d’une transformation chimique ne faisant intervenir qu’une réaction chimique : oxydation des ions iodure par les ions peroxodisulfate S$_{2}$O$_{8}$$^{2-}$  </font>"
   ]
  },
  {
   "cell_type": "markdown",
   "metadata": {},
   "source": [
    "- ### <font color=red>récupération des mesures d'absorbances en fonction du temps</font>"
   ]
  },
  {
   "cell_type": "code",
   "execution_count": 5,
   "metadata": {},
   "outputs": [
    {
     "name": "stdout",
     "output_type": "stream",
     "text": [
      "[{'date ti de prélèvement (min)': '0', 'A': '0.00'}\n",
      " {'date ti de prélèvement (min)': '2', 'A': '0.333'}\n",
      " {'date ti de prélèvement (min)': '3.5', 'A': '0.6'}\n",
      " {'date ti de prélèvement (min)': '6', 'A': '0.913'}\n",
      " {'date ti de prélèvement (min)': '8', 'A': '1.154'}\n",
      " {'date ti de prélèvement (min)': '10.5', 'A': '1.373'}\n",
      " {'date ti de prélèvement (min)': '13', 'A': '1.559'}\n",
      " {'date ti de prélèvement (min)': '15', 'A': '1.691'}\n",
      " {'date ti de prélèvement (min)': '18', 'A': '1.852'}\n",
      " {'date ti de prélèvement (min)': '22', 'A': '2.016'}\n",
      " {'date ti de prélèvement (min)': '25', 'A': '2.107'}\n",
      " {'date ti de prélèvement (min)': '30', 'A': '2.205'}\n",
      " {'date ti de prélèvement (min)': '35', 'A': '2.27'}\n",
      " {'date ti de prélèvement (min)': '40', 'A': '2.312'}\n",
      " {'date ti de prélèvement (min)': '45', 'A': '2.334'}\n",
      " {'date ti de prélèvement (min)': '50', 'A': '2.358'}\n",
      " {'date ti de prélèvement (min)': '55', 'A': '2.37'}]\n"
     ]
    }
   ],
   "source": [
    "###### Création d'un dictionnaire contenant les valeurs de d'absorbances mesurées lors du suivi \n",
    "suivi_spectro = []\n",
    "with open('tp7_suivi_par_spectro-prof.csv', newline='') as csvfile:\n",
    "    file = csv.DictReader(csvfile, delimiter=\";\")\n",
    "    for ligne in file:\n",
    "        suivi_spectro.append(dict(ligne))\n",
    "\n",
    "print(np.array(suivi_spectro))"
   ]
  },
  {
   "cell_type": "markdown",
   "metadata": {},
   "source": [
    "- ### <font color=red> Préparation de la liste t contenant les valeurs des dates et de la liste A_t contenant les valeurs des absorbances mesurées à l'instant t </font>"
   ]
  },
  {
   "cell_type": "code",
   "execution_count": 6,
   "metadata": {},
   "outputs": [
    {
     "name": "stdout",
     "output_type": "stream",
     "text": [
      "Liste des dates t (min) :  \n",
      "[ 0.   2.   3.5  6.   8.  10.5 13.  15.  18.  22.  25.  30.  35.  40.\n",
      " 45.  50.  55. ]\n",
      "\n",
      "Liste des absorbances mesurées aux dates t :  \n",
      "[0.    0.333 0.6   0.913 1.154 1.373 1.559 1.691 1.852 2.016 2.107 2.205\n",
      " 2.27  2.312 2.334 2.358 2.37 ]\n"
     ]
    }
   ],
   "source": [
    "A_t=[] # récupération des valeurs d'absorbance\n",
    "t=[] # récupération des valeurs du temps\n",
    "for couple in suivi_spectro:\n",
    "    A_t.append(float(couple['A']))\n",
    "    t.append(float(couple['date ti de prélèvement (min)']))\n",
    "print(\"Liste des dates t (min) :  \")\n",
    "print(np.array(t))\n",
    "print()\n",
    "print(\"Liste des absorbances mesurées aux dates t :  \")\n",
    "print(np.array(A_t))\n"
   ]
  },
  {
   "cell_type": "markdown",
   "metadata": {},
   "source": [
    "- ### <font color=red> On souhaite maintenant tracer la concentration de diiode formé [I$_{2}$] en fonction du temps </font>"
   ]
  },
  {
   "cell_type": "markdown",
   "metadata": {},
   "source": [
    "<div class = \"alert alert-info\">  \n",
    "\n",
    "**Question 3.1**:   \n",
    "    En vous aidant de la relation obtenue dans le 2., compléter la partie de code encadrée ci-dessous\n",
    "</div>"
   ]
  },
  {
   "cell_type": "code",
   "execution_count": 7,
   "metadata": {},
   "outputs": [
    {
     "name": "stdout",
     "output_type": "stream",
     "text": [
      "[0.         0.00072288 0.00130249 0.00198196 0.00250512 0.00298053\n",
      " 0.00338431 0.00367085 0.00402036 0.00437637 0.00457391 0.00478665\n",
      " 0.00492776 0.00501893 0.00506669 0.00511879 0.00514484]\n"
     ]
    }
   ],
   "source": [
    "#Initialisation de la liste contenant les concentrations de I2 formé au cours du temps\n",
    "C_t=[] \n",
    "\n",
    "#---------------partie de code à compléter----------------------------------\n",
    "#Calcul de la concentration [I2] en fonction du temps \n",
    "for i in range(len(A_t)):\n",
    "    Ci= A_t[i]/k # à compléter\n",
    "    C_t.append(Ci)\n",
    "#----------------------------------------------------------------------\n",
    "\n",
    "#Affichage des concentrations calculées\n",
    "print(np.array(C_t))\n",
    "\n"
   ]
  },
  {
   "cell_type": "code",
   "execution_count": 8,
   "metadata": {},
   "outputs": [
    {
     "data": {
      "image/png": "[encoded data removed]",
      "text/plain": [
       "<Figure size 432x288 with 1 Axes>"
      ]
     },
     "metadata": {
      "needs_background": "light"
     },
     "output_type": "display_data"
    }
   ],
   "source": [
    "#------------------------------------------------------------------------------\n",
    "#   Tracé de la concentration de diiode formé au cours du temps\n",
    "#------------------------------------------------------------------------------\n",
    "\n",
    "plt.plot(t,C_t,\"rx\") \n",
    "\n",
    "#Titres des axes et du graphique\n",
    "plt.title(\"[I2] en fonction du temps\",color='black')\n",
    "plt.ylabel('[I2] en mol/L')#nom de l'axe des ordonnées\n",
    "plt.xlabel(\"temps (min)\")#nom des axes des abscisses\n",
    "\n",
    "plt.show() "
   ]
  },
  {
   "cell_type": "markdown",
   "metadata": {},
   "source": [
    "<div class = \"alert alert-info\">  \n",
    "\n",
    "**Question 3.2**:   \n",
    "    En observant la courbe obtenue ci-dessus, indiquer à partir de quelle date on peut considérer que la transformation chimique est terminée.\n",
    " </div>"
   ]
  },
  {
   "cell_type": "raw",
   "metadata": {},
   "source": [
    "La réaction chimique est terminée au bout d'environ 45 min."
   ]
  },
  {
   "cell_type": "markdown",
   "metadata": {},
   "source": [
    "- ### <font color=red> On souhaite maintenant tracer la concentration des ions peroxodisulfates formés [S$_{2}$O$_{8}$$^{2-}$ ] en fonction du temps </font>"
   ]
  },
  {
   "cell_type": "markdown",
   "metadata": {},
   "source": [
    "  <div class = \"alert alert-info\">  \n",
    "\n",
    "**Question 3.3**:   \n",
    "Exprimer la quantité de diiode n (I$_{2}$) formé au cours du temps en fonction de la concentration de [I$_{2}$].   \n",
    "(la réponse peut-être mise sur votre feuille de compte-rendu de tp.)\n",
    " </div>"
   ]
  },
  {
   "cell_type": "markdown",
   "metadata": {},
   "source": [
    "D'après l'équation de la réaction, n (I$_{2}$) = [I$_{2}$](V$_{1}$ +V$_{2}$)"
   ]
  },
  {
   "cell_type": "raw",
   "metadata": {},
   "source": []
  },
  {
   "cell_type": "markdown",
   "metadata": {},
   "source": [
    "  <div class = \"alert alert-info\">  \n",
    "\n",
    "**Question 3.4**:   \n",
    "D'après l'équation de la réaction, établir la relation entre la quantité d'ions peroxodisulfates restants n(S$_{2}$O$_{8}$$^{2-}$) , la quantité de diiode n (I$_{2}$) formés, C$_{1}$ et V$_{1}$.        \n",
    "(la réponse peut-être mise sur votre feuille de compte-rendu de tp.)\n",
    " </div>"
   ]
  },
  {
   "cell_type": "markdown",
   "metadata": {},
   "source": [
    "n(S$_{2}$O$_{8}$$^{2-}$) = n$_{i}$(S$_{2}$O$_{8}$$^{2-}$)  -  n (I$_{2}$)"
   ]
  },
  {
   "cell_type": "markdown",
   "metadata": {},
   "source": [
    "Soit n(S$_{2}$O$_{8}$$^{2-}$) = C$_{1}$  x  V $_{1}$  -  n (I$_{2}$)"
   ]
  },
  {
   "cell_type": "raw",
   "metadata": {},
   "source": []
  },
  {
   "cell_type": "markdown",
   "metadata": {},
   "source": [
    "  <div class = \"alert alert-info\">  \n",
    "\n",
    "**Question 3.5**:   \n",
    "En déduire la concentration des ions peroxodisulfate [S$_{2}$O$_{8}$$^{2-}$]  en fonction de la concentration de diiode [I$_{2}$].     \n",
    "(la réponse peut-être mise sur votre feuille de compte-rendu de tp.)\n",
    " </div>"
   ]
  },
  {
   "cell_type": "markdown",
   "metadata": {},
   "source": [
    "[S$_{2}$O$_{8}$$^{2-}$]  = $\\frac{n(S_{2}O_{8}^{2-})}{V_{1} +V_{2}}$    "
   ]
  },
  {
   "cell_type": "markdown",
   "metadata": {},
   "source": [
    "soit [S$_{2}$O$_{8}$$^{2-}$]  = $\\frac{C_{1}  x  V_{1} -  n (I_{2})}{V_{1} +V_{2}}$    "
   ]
  },
  {
   "cell_type": "markdown",
   "metadata": {},
   "source": [
    "d'où   [S$_{2}$O$_{8}$$^{2-}$]  = $\\frac{C_{1}  x  V_{1} -  [I_{2}](V_{1} +V_{2})}{V_{1} +V_{2}}$   "
   ]
  },
  {
   "cell_type": "markdown",
   "metadata": {},
   "source": [
    "Après simplification, il reste : [S$_{2}$O$_{8}$$^{2-}$]  = $\\frac{C_{1}  x  V_{1}}{V_{1} +V_{2}}$ - [I$_{2}$]"
   ]
  },
  {
   "cell_type": "raw",
   "metadata": {},
   "source": []
  },
  {
   "cell_type": "markdown",
   "metadata": {},
   "source": [
    "<div class = \"alert alert-info\">  \n",
    "\n",
    "**Question 3.6**:   \n",
    "Compléter le code ci-dessous pour calculer les concentrations des ions peroxodisulfate en fonction du temps : [S$_{2}$O$_{8}$$^{2-}$].   \n",
    "\n",
    "On appelle C_peroxo cette concentration.\n",
    " </div>"
   ]
  },
  {
   "cell_type": "code",
   "execution_count": 9,
   "metadata": {},
   "outputs": [
    {
     "name": "stdout",
     "output_type": "stream",
     "text": [
      "[ 5.00000000e-03  4.27711744e-03  3.69750890e-03  3.01804270e-03\n",
      "  2.49487544e-03  2.01946619e-03  1.61569395e-03  1.32914591e-03\n",
      "  9.79644128e-04  6.23629893e-04  4.26085409e-04  2.13345196e-04\n",
      "  7.22419929e-05 -1.89323843e-05 -6.66903915e-05 -1.18790036e-04\n",
      " -1.44839858e-04]\n"
     ]
    }
   ],
   "source": [
    "#Initialisation de la liste contenant les concentrations d'ion peroxodisulfate formé au cours du temps\n",
    "C_peroxo=[] \n",
    "\n",
    "#---------------partie de code à compléter----------------------------------\n",
    "#Calcul de la concentration en ions peroxodisulfates en fonction du temps \n",
    "for i in range(len(C_t)):\n",
    "    Ci= 0.005-C_t[i] # à compléter\n",
    "    C_peroxo.append(Ci)\n",
    "#----------------------------------------------------------------------\n",
    "\n",
    "#Affichage des concentrations calculées\n",
    "print(np.array(C_peroxo))\n",
    "\n"
   ]
  },
  {
   "cell_type": "markdown",
   "metadata": {},
   "source": [
    "<div class = \"alert alert-info\">  \n",
    "\n",
    "**Question 3.7**:   \n",
    "Compléter le code ci-dessous pour tracer l'évolution de la concentration en ions peroxodisulfates en fonction du temps.   \n",
    "\n",
    " </div>"
   ]
  },
  {
   "cell_type": "code",
   "execution_count": 10,
   "metadata": {},
   "outputs": [
    {
     "data": {
      "image/png": "[encoded data removed]",
      "text/plain": [
       "<Figure size 432x288 with 1 Axes>"
      ]
     },
     "metadata": {
      "needs_background": "light"
     },
     "output_type": "display_data"
    }
   ],
   "source": [
    "#------------------------------------------------------------------------------\n",
    "#   Tracé de la concentration des ions peroxodisulfate restant au cours du temps\n",
    "#------------------------------------------------------------------------------\n",
    "\n",
    "#---------------partie de code à compléter----------------------------------\n",
    "plt.plot(t,C_peroxo,\"rx\") \n",
    "\n",
    "#Titres des axes et du graphique\n",
    "plt.title(\"[ion peroxodisulfate] en fonction du temps\",color='black')\n",
    "plt.ylabel('[ion peroxodisulfate] en mol/L')#nom de l'axe des ordonnées\n",
    "plt.xlabel(\"temps (min)\")#nom des axes des abscisses\n",
    "\n",
    "plt.show() \n",
    "\n",
    "#----------------------------------------------------------------------------"
   ]
  },
  {
   "cell_type": "markdown",
   "metadata": {},
   "source": [
    "- ### <font color=red> On souhaite maintenant tracer la vitesse volumique de disparition des ions peroxodisulfate  en fonction du temps </font>"
   ]
  },
  {
   "cell_type": "markdown",
   "metadata": {},
   "source": [
    "![center](vitesse-disparition-reactif.png)"
   ]
  },
  {
   "cell_type": "markdown",
   "metadata": {},
   "source": [
    "<div class = \"alert alert-info\">  \n",
    "\n",
    "**Question 3.8**:   \n",
    "    En vous aidant du document précédent, compléter la partie de code encradrée ci-dessous permettant de calculer la vitesse volumique de disparition des ions peroxodisulfate.   \n",
    "</div>"
   ]
  },
  {
   "cell_type": "code",
   "execution_count": 11,
   "metadata": {},
   "outputs": [
    {
     "name": "stdout",
     "output_type": "stream",
     "text": [
      "[3.61441281e-04 3.86405694e-04 2.71786477e-04 2.61583630e-04\n",
      " 1.90163701e-04 1.61508897e-04 1.43274021e-04 1.16500593e-04\n",
      " 8.90035587e-05 6.58481613e-05 4.25480427e-05 2.82206406e-05\n",
      " 1.82348754e-05 9.55160142e-06 1.04199288e-05 5.20996441e-06]\n"
     ]
    }
   ],
   "source": [
    "#Calcul de la vitesse volumique de disparition des ions peroxodisulfates en fonction du temps\n",
    "v=[] #initisation de la liste contenant les vitesses\n",
    "\n",
    "#------------Partie de code à compléter --------------------------------\n",
    "\n",
    "for i in range (0,len(C_t)-1):  #ligne à expliquer dans la question 3.9.\n",
    "    \n",
    "    vi=-((C_peroxo[i+1]-C_peroxo[i])/(t[i+1]-t[i]))# à compléter\n",
    "    v.append(vi)\n",
    "    \n",
    "#----------------------------------------------------------------------\n",
    "\n",
    "print(np.array(v))\n",
    "\n",
    "\n"
   ]
  },
  {
   "cell_type": "markdown",
   "metadata": {},
   "source": [
    "<div class = \"alert alert-info\">  \n",
    "\n",
    "**Question 3.9**:   \n",
    "    Expliquer la ligne : for i in range (0,len(C_t)-1):\n",
    " </div>"
   ]
  },
  {
   "cell_type": "raw",
   "metadata": {},
   "source": []
  },
  {
   "cell_type": "code",
   "execution_count": 12,
   "metadata": {},
   "outputs": [
    {
     "name": "stdout",
     "output_type": "stream",
     "text": [
      "[ 0.   2.   3.5  6.   8.  10.5 13.  15.  18.  22.  25.  30.  35.  40.\n",
      " 45.  50. ]\n"
     ]
    },
    {
     "data": {
      "image/png": "[encoded data removed]",
      "text/plain": [
       "<Figure size 432x288 with 1 Axes>"
      ]
     },
     "metadata": {
      "needs_background": "light"
     },
     "output_type": "display_data"
    }
   ],
   "source": [
    "#--------------------------------------------------------------------------------------------------\n",
    "#   Tracé de la vitesse volumique de disparition des ions peroxodisulfate en fonction du temps\n",
    "#--------------------------------------------------------------------------------------------------\n",
    "#Il faut enlever la dernière valeurs du temps\n",
    "temps=np.delete(t,len(t)-1) \n",
    "\n",
    "print(np.array(temps))\n",
    "plt.plot(temps,v,\"rx\") \n",
    "\n",
    "#Titres des axes et du graphique\n",
    "plt.title(\"v en fonction du temps\",color='black')\n",
    "plt.ylabel('v en mol.L-1.min-1')#nom de l'axe des ordonnées\n",
    "plt.xlabel(\"temps (min)\")#nom des axes des abscisses\n",
    "\n",
    "plt.show() "
   ]
  },
  {
   "cell_type": "markdown",
   "metadata": {},
   "source": [
    "<div class = \"alert alert-info\">  \n",
    "\n",
    "**Question 3.10**:   \n",
    "Compléter la partie de code permettant de tracer la vitesse volumique de disparition des ions peroxodisulfates en fonction de la concentration en ions peroxodisulfates restants.\n",
    "\n",
    " </div>"
   ]
  },
  {
   "cell_type": "code",
   "execution_count": 13,
   "metadata": {},
   "outputs": [
    {
     "data": {
      "image/png": "[encoded data removed]",
      "text/plain": [
       "<Figure size 432x288 with 1 Axes>"
      ]
     },
     "metadata": {
      "needs_background": "light"
     },
     "output_type": "display_data"
    }
   ],
   "source": [
    "#------------------------------------------------------------------------------\n",
    "#   Tracé de la la vitesse volumique de disparition des ions peroxodisulfate en \n",
    "#    fonction de la concentration en ions peroxodisulfate\n",
    "#------------------------------------------------------------------------------\n",
    "\n",
    "#Il faut enlever la dernière valeurs de la concentration\n",
    "C_peroxo=np.delete(C_peroxo,len(t)-1) \n",
    "\n",
    "#---------------partie de code à compléter----------------------------------\n",
    "plt.plot(C_peroxo,v,\"rx\")  # Ligne à compléter\n",
    "\n",
    "#Titres des axes et du graphique\n",
    "plt.title(\"v de disparition en fonction de la concentration des ions peroxodisulfate\",color='black')\n",
    "plt.ylabel('vitesse de disparition mol.L-1.min-1 ')#nom de l'axe des ordonnées   # Ligne à compléter\n",
    "plt.xlabel(\"[ions peroxodisulfates] en mol/L\")#nom des axes des abscisses      # Ligne à compléter\n",
    "\n",
    "\n",
    "plt.show() \n",
    "\n",
    "#----------------------------------------------------------------------------"
   ]
  },
  {
   "cell_type": "markdown",
   "metadata": {},
   "source": [
    "<div class = \"alert alert-info\">  \n",
    "\n",
    "**Question 3.11**:   \n",
    "En vous aidant du document ci-dessous, déterminer si la réaction étudiée est d'ordre 1. \n",
    "\n",
    " </div>"
   ]
  },
  {
   "cell_type": "markdown",
   "metadata": {},
   "source": [
    "![center](loi-ordre-un.png)"
   ]
  },
  {
   "cell_type": "raw",
   "metadata": {},
   "source": []
  },
  {
   "cell_type": "markdown",
   "metadata": {},
   "source": [
    "- ### <font color=red> <u>Vérification :</u> réaction d'ordre 1 </font>"
   ]
  },
  {
   "cell_type": "code",
   "execution_count": 14,
   "metadata": {},
   "outputs": [
    {
     "name": "stdout",
     "output_type": "stream",
     "text": [
      "k =  7.56e-02  b =  1.43e-05\n"
     ]
    },
    {
     "data": {
      "image/png": "[encoded data removed]",
      "text/plain": [
       "<Figure size 432x288 with 1 Axes>"
      ]
     },
     "metadata": {
      "needs_background": "light"
     },
     "output_type": "display_data"
    }
   ],
   "source": [
    "#modélisation linéaire de la courbe\n",
    "#k=coef directeur de la droite\n",
    "#b=ordonnée à l'origine\n",
    "k,b = np.polyfit(C_peroxo,v,1)\n",
    "plt.plot(C_peroxo,v,\"rx\")\n",
    "#écriture de k et b en notation scientifique avec deux chiffres après la virgule\n",
    "print(\"k = \", format(k,\".2e\"),\" b = \" ,format(b,\".2e\")) \n",
    "\n",
    "\n",
    "#création du tableau des ordonnées A pour tracer la droite moyenne\n",
    "v_mod=[]\n",
    "for i in range(len(C_peroxo)):\n",
    "    vi=k*C_peroxo[i]+b     \n",
    "    v_mod.append(vi)\n",
    "\n",
    "#Tracé de la droite moyenne\n",
    "plt.plot(C_peroxo,v_mod,\"b-\",label=\"Droite moyenne\")\n",
    "\n",
    "#affichage de la légende\n",
    "plt.legend()\n",
    "plt.show() \n"
   ]
  },
  {
   "cell_type": "raw",
   "metadata": {},
   "source": []
  }
 ],
 "metadata": {
  "kernelspec": {
   "display_name": "Python 3",
   "language": "python",
   "name": "python3"
  },
  "language_info": {
   "codemirror_mode": {
    "name": "ipython",
    "version": 3
   },
   "file_extension": ".py",
   "mimetype": "text/x-python",
   "name": "python",
   "nbconvert_exporter": "python",
   "pygments_lexer": "ipython3",
   "version": "3.7.1"
  }
 },
 "nbformat": 4,
 "nbformat_minor": 2
}
