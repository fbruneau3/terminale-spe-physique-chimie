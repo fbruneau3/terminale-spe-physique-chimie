{
 "cells": [
  {
   "cell_type": "code",
   "execution_count": null,
   "metadata": {},
   "outputs": [],
   "source": [
    "# Install a conda package in the current Jupyter kernel\n",
    "import sys\n",
    "!conda install --yes --prefix {sys.prefix} matplotlib"
   ]
  },
  {
   "cell_type": "code",
   "execution_count": null,
   "metadata": {},
   "outputs": [],
   "source": [
    "import matplotlib.pyplot as plt\n",
    "%matplotlib inline\n",
    "\n",
    "#----------------------------------------------#Calcul des concentraion de diidoe--------------------------------\n",
    "#           Initialisation des données\n",
    "#------------------------------------------------------------------------------\n",
    "\n",
    "reactif_titre=input(\"Entrer le nom du réactif titré :\" ) \n",
    "Nb_stoech1 = int(input(\"Entrer le nombre stoechiométrique du réactif titré :\"))   #  nombre stoechiométrique du réactif 1\n",
    "reactif_titrant=input(\"Entrer le nom du réactif titrant :\" ) \n",
    "Nb_stoech2 = int(input(\"Entrer le nombre stoechiométrique du réactif titrant :\"))     #  nombre stoechimétrique du réactif 2\n",
    "V1 = float(input(\"Entrer le volume V1 en mL de solution à titrer : \")) #  Volume initial de solution titrée en mL\n",
    "C2= float(input(\"Entrer la concantration en mol/Lde réactif titrant :\"))       #  concentration de la soltuion titrante en mol/L\n",
    "V2_max=25       #  Volume maximal de solution titrante versé en mL\n",
    "Vbe = float(input(\"Entrer le volume de solution titrante versé à l'équivalence :\"))"
   ]
  },
  {
   "cell_type": "code",
   "execution_count": null,
   "metadata": {},
   "outputs": [],
   "source": [
    "#------------------------------------------------------------------------------\n",
    "#  Calcul de la concentration de réactif titré\n",
    "#------------------------------------------------------------------------------\n",
    "\n",
    "C1= Nb_stoech1*C2*Vbe/(Nb_stoech2*V1)\n",
    "\n",
    "print(\"La concentration de réactif titré est : \", C1 ,\" mol/L.\")\n",
    "print()"
   ]
  },
  {
   "cell_type": "code",
   "execution_count": null,
   "metadata": {},
   "outputs": [],
   "source": [
    "\n",
    "#------------------------------------------------------------------------------\n",
    "#  Création de listes pour faciliter les tracés de courbes\n",
    "#------------------------------------------------------------------------------\n",
    "\n",
    "\n",
    "V2_verse=[] # liste contenant l'abscisse c'est-à-dire le volume de solution titrante\n",
    "N1=[]   # liste contenant les quantités de matière de réactif titré\n",
    "N2=[]   # liste contenant les quantités de matière de réactif titrant\n",
    "\n",
    "#------------------------------------------------------------------------------\n",
    "#   Boucle simulant l'ajout d'un volume V2 de solution titrante:\n",
    "# Pour chaque ajout de solution titrante, le programme calcule les quantités \n",
    "#   de matière des réactifs titrant et titré.\n",
    "#------------------------------------------------------------------------------\n",
    "\n",
    "for V2 in range(V2_max+1):\n",
    "    N1_init=C1*V1/1000   #Quantité de matière initiale de réactif titré\n",
    "    N2_verse=C2*V2/1000   #Quantité de matière de réactif titrant versé\n",
    "    V2_verse.append(V2)  # On ajoute V2 dans la liste\n",
    "    \n",
    "    if V2<Vbe:  # Avant l'équivalence\n",
    "        N2.append(0)\n",
    "        N1_restant=N1_init-Nb_stoech1*N2_verse/Nb_stoech2\n",
    "        N1.append(N1_restant)\n",
    "    else:  # après l'équivalence\n",
    "        N1.append(0)\n",
    "        N2_restant=C2*V2/1000-Nb_stoech2*N1_init/Nb_stoech1\n",
    "        N2.append(N2_restant)\n",
    "\n",
    "#--------------------------------------------------------------------------\n",
    "#  Affichage des listes contenant les quantités de matière\n",
    "#--------------------------------------------------------------------------\n",
    "print(\"Quantités de réactif titré au cours du titrage (en mol) : \")\n",
    "print(N1)\n",
    "print()\n",
    "print(\"Quantités de réactif titrant au cours du titrage (en mol) : \")\n",
    "print(N2)\n",
    "\n",
    "\n",
    "#------------------------------------------------------------------------------\n",
    "#           Tracé du graphique\n",
    "#------------------------------------------------------------------------------\n",
    "\n",
    "\n",
    "#Tracé du nuage de points\n",
    "plt.plot(V2_verse,N1,\"rx\",label=reactif_titre) \n",
    "plt.plot(V2_verse,N2,\"bx\",label=reactif_titrant) \n",
    "\n",
    "\n",
    "#Titres des axes et du graphique\n",
    "plt.title(\"Evolution des quantités des réactifs\\n en fonction du volume V2 versé\",color='black')\n",
    "plt.ylabel('Quantité de matière')#nom de l'axe des ordonnées\n",
    "plt.xlabel(\"volume V2 de solution titrante versé\")#nom des axes des abscisses\n",
    "\n",
    "#affichage de la légende\n",
    "plt.legend()\n",
    "plt.show() "
   ]
  },
  {
   "cell_type": "code",
   "execution_count": null,
   "metadata": {},
   "outputs": [],
   "source": []
  }
 ],
 "metadata": {
  "kernelspec": {
   "display_name": "Python 3",
   "language": "python",
   "name": "python3"
  },
  "language_info": {
   "codemirror_mode": {
    "name": "ipython",
    "version": 3
   },
   "file_extension": ".py",
   "mimetype": "text/x-python",
   "name": "python",
   "nbconvert_exporter": "python",
   "pygments_lexer": "ipython3",
   "version": "3.7.1"
  }
 },
 "nbformat": 4,
 "nbformat_minor": 2
}
